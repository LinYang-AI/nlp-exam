{
 "cells": [
  {
   "attachments": {},
   "cell_type": "markdown",
   "metadata": {},
   "source": [
    "# <center>NLP Course <br><small>Graded Project Instructions <br>Spring 2023</small></center>\n",
    "\n",
    "About the dataset: \n",
    "\n",
    "List of tweet texts with emotion labels like joy, sadness, fear, anger... \n",
    "Dataset is split into train, test and validation sets for building the machine learning model. At first, you are \n",
    "given only train and test sets. The validation one will be given in the end of the project for you to check \n",
    "the final performance of your algorithm (to make sure there is no overfitting over the test data). \n",
    "You can work on this project on group of one, two or three students. This exercise is mandatory, not \n",
    "giving it back is equivalent to getting to lowest grade. \n",
    "Goal: \n",
    "\n",
    "• Train different kind of models able to classify each text according to the sentiment mainly present \n",
    "in it \n",
    "\n",
    "• Compare the results of your different models and try to analyze and explain the differences\n",
    "\n",
    "Train different classification models relying mainly on \n",
    "\n",
    "1. A Fully Connected Neural Network (see Course 2) 5 points \n",
    "\n",
    "2. A Recurrent Neural Network, based on LSTM or GRU (see Course 3) 5 points \n",
    "\n",
    "3. A fine-tuned Transformer Architecture from a pretrained model that can be found on sites \n",
    "like HuggingFace (see Course 4) 5 points \n",
    "\n",
    "4. Compare the different models to find the best approach and try to duplicate it on a “real life” \n",
    "text classification approach (this new “real life” dataset will be given to you soon) 5 points"
   ]
  },
  {
   "attachments": {},
   "cell_type": "markdown",
   "metadata": {},
   "source": [
    "# Loading and Preprocessing the data sets"
   ]
  },
  {
   "cell_type": "code",
   "execution_count": 2,
   "metadata": {},
   "outputs": [],
   "source": [
    "import pandas as pd\n",
    "import numpy as np"
   ]
  },
  {
   "cell_type": "code",
   "execution_count": 3,
   "metadata": {},
   "outputs": [
    {
     "data": {
      "text/html": [
       "<div>\n",
       "<style scoped>\n",
       "    .dataframe tbody tr th:only-of-type {\n",
       "        vertical-align: middle;\n",
       "    }\n",
       "\n",
       "    .dataframe tbody tr th {\n",
       "        vertical-align: top;\n",
       "    }\n",
       "\n",
       "    .dataframe thead th {\n",
       "        text-align: right;\n",
       "    }\n",
       "</style>\n",
       "<table border=\"1\" class=\"dataframe\">\n",
       "  <thead>\n",
       "    <tr style=\"text-align: right;\">\n",
       "      <th></th>\n",
       "      <th>tweet</th>\n",
       "      <th>sentiment</th>\n",
       "    </tr>\n",
       "  </thead>\n",
       "  <tbody>\n",
       "    <tr>\n",
       "      <th>0</th>\n",
       "      <td>i didnt feel humiliated</td>\n",
       "      <td>sadness</td>\n",
       "    </tr>\n",
       "    <tr>\n",
       "      <th>1</th>\n",
       "      <td>i can go from feeling so hopeless to so damned...</td>\n",
       "      <td>sadness</td>\n",
       "    </tr>\n",
       "    <tr>\n",
       "      <th>2</th>\n",
       "      <td>im grabbing a minute to post i feel greedy wrong</td>\n",
       "      <td>anger</td>\n",
       "    </tr>\n",
       "    <tr>\n",
       "      <th>3</th>\n",
       "      <td>i am ever feeling nostalgic about the fireplac...</td>\n",
       "      <td>love</td>\n",
       "    </tr>\n",
       "    <tr>\n",
       "      <th>4</th>\n",
       "      <td>i am feeling grouchy</td>\n",
       "      <td>anger</td>\n",
       "    </tr>\n",
       "  </tbody>\n",
       "</table>\n",
       "</div>"
      ],
      "text/plain": [
       "                                               tweet sentiment\n",
       "0                            i didnt feel humiliated   sadness\n",
       "1  i can go from feeling so hopeless to so damned...   sadness\n",
       "2   im grabbing a minute to post i feel greedy wrong     anger\n",
       "3  i am ever feeling nostalgic about the fireplac...      love\n",
       "4                               i am feeling grouchy     anger"
      ]
     },
     "execution_count": 3,
     "metadata": {},
     "output_type": "execute_result"
    }
   ],
   "source": [
    "df_train = pd.read_csv('./train.txt', header=None, delimiter=';')\n",
    "df_test = pd.read_csv('./test.txt', header=None, delimiter=';')\n",
    "df_train = df_train.rename(columns={0: 'tweet', 1: 'sentiment'})\n",
    "df_test = df_test.rename(columns={0: 'tweet', 1: 'sentiment'})\n",
    "df_train.head()"
   ]
  },
  {
   "cell_type": "code",
   "execution_count": 3,
   "metadata": {},
   "outputs": [
    {
     "data": {
      "text/plain": [
       "(joy         5362\n",
       " sadness     4666\n",
       " anger       2159\n",
       " fear        1937\n",
       " love        1304\n",
       " surprise     572\n",
       " Name: sentiment, dtype: int64,\n",
       " (16000, 2))"
      ]
     },
     "execution_count": 3,
     "metadata": {},
     "output_type": "execute_result"
    }
   ],
   "source": [
    "df_train['sentiment'].value_counts(), df_train.shape"
   ]
  },
  {
   "cell_type": "code",
   "execution_count": 4,
   "metadata": {},
   "outputs": [
    {
     "data": {
      "text/plain": [
       "(joy         695\n",
       " sadness     581\n",
       " anger       275\n",
       " fear        224\n",
       " love        159\n",
       " surprise     66\n",
       " Name: sentiment, dtype: int64,\n",
       " (2000, 2))"
      ]
     },
     "execution_count": 4,
     "metadata": {},
     "output_type": "execute_result"
    }
   ],
   "source": [
    "df_test['sentiment'].value_counts(), df_test.shape"
   ]
  },
  {
   "cell_type": "code",
   "execution_count": 5,
   "metadata": {},
   "outputs": [],
   "source": [
    "texts_train = df_train['tweet']\n",
    "texts_test = df_test['tweet']"
   ]
  },
  {
   "attachments": {},
   "cell_type": "markdown",
   "metadata": {},
   "source": [
    "## Tokenization and Embedding"
   ]
  },
  {
   "attachments": {},
   "cell_type": "markdown",
   "metadata": {},
   "source": [
    "### Tokenization"
   ]
  },
  {
   "cell_type": "code",
   "execution_count": 6,
   "metadata": {},
   "outputs": [
    {
     "data": {
      "text/html": [
       "<div>\n",
       "<style scoped>\n",
       "    .dataframe tbody tr th:only-of-type {\n",
       "        vertical-align: middle;\n",
       "    }\n",
       "\n",
       "    .dataframe tbody tr th {\n",
       "        vertical-align: top;\n",
       "    }\n",
       "\n",
       "    .dataframe thead th {\n",
       "        text-align: right;\n",
       "    }\n",
       "</style>\n",
       "<table border=\"1\" class=\"dataframe\">\n",
       "  <thead>\n",
       "    <tr style=\"text-align: right;\">\n",
       "      <th></th>\n",
       "      <th>tweet</th>\n",
       "      <th>sentiment</th>\n",
       "    </tr>\n",
       "  </thead>\n",
       "  <tbody>\n",
       "    <tr>\n",
       "      <th>0</th>\n",
       "      <td>i didnt feel humiliated</td>\n",
       "      <td>sadness</td>\n",
       "    </tr>\n",
       "    <tr>\n",
       "      <th>1</th>\n",
       "      <td>i can go from feeling so hopeless to so damned...</td>\n",
       "      <td>sadness</td>\n",
       "    </tr>\n",
       "    <tr>\n",
       "      <th>2</th>\n",
       "      <td>im grabbing a minute to post i feel greedy wrong</td>\n",
       "      <td>anger</td>\n",
       "    </tr>\n",
       "    <tr>\n",
       "      <th>3</th>\n",
       "      <td>i am ever feeling nostalgic about the fireplac...</td>\n",
       "      <td>love</td>\n",
       "    </tr>\n",
       "    <tr>\n",
       "      <th>4</th>\n",
       "      <td>i am feeling grouchy</td>\n",
       "      <td>anger</td>\n",
       "    </tr>\n",
       "  </tbody>\n",
       "</table>\n",
       "</div>"
      ],
      "text/plain": [
       "                                               tweet sentiment\n",
       "0                            i didnt feel humiliated   sadness\n",
       "1  i can go from feeling so hopeless to so damned...   sadness\n",
       "2   im grabbing a minute to post i feel greedy wrong     anger\n",
       "3  i am ever feeling nostalgic about the fireplac...      love\n",
       "4                               i am feeling grouchy     anger"
      ]
     },
     "execution_count": 6,
     "metadata": {},
     "output_type": "execute_result"
    }
   ],
   "source": [
    "df_train.head()"
   ]
  },
  {
   "cell_type": "code",
   "execution_count": 7,
   "metadata": {},
   "outputs": [],
   "source": [
    "import spacy\n",
    "nlp = spacy.load('en_core_web_md')\n",
    "def preprocess_text(text):\n",
    "    doc = nlp(text)\n",
    "    tokens = [token.lemma_.lower().strip() for token in doc if not token.is_stop and not token.is_punct]\n",
    "    return ' '.join(tokens)"
   ]
  },
  {
   "cell_type": "code",
   "execution_count": 8,
   "metadata": {},
   "outputs": [
    {
     "data": {
      "text/html": [
       "<div>\n",
       "<style scoped>\n",
       "    .dataframe tbody tr th:only-of-type {\n",
       "        vertical-align: middle;\n",
       "    }\n",
       "\n",
       "    .dataframe tbody tr th {\n",
       "        vertical-align: top;\n",
       "    }\n",
       "\n",
       "    .dataframe thead th {\n",
       "        text-align: right;\n",
       "    }\n",
       "</style>\n",
       "<table border=\"1\" class=\"dataframe\">\n",
       "  <thead>\n",
       "    <tr style=\"text-align: right;\">\n",
       "      <th></th>\n",
       "      <th>tweet</th>\n",
       "      <th>sentiment</th>\n",
       "      <th>processed</th>\n",
       "    </tr>\n",
       "  </thead>\n",
       "  <tbody>\n",
       "    <tr>\n",
       "      <th>0</th>\n",
       "      <td>i didnt feel humiliated</td>\n",
       "      <td>sadness</td>\n",
       "      <td>not feel humiliate</td>\n",
       "    </tr>\n",
       "    <tr>\n",
       "      <th>1</th>\n",
       "      <td>i can go from feeling so hopeless to so damned...</td>\n",
       "      <td>sadness</td>\n",
       "      <td>feel hopeless damn hopeful care awake</td>\n",
       "    </tr>\n",
       "    <tr>\n",
       "      <th>2</th>\n",
       "      <td>im grabbing a minute to post i feel greedy wrong</td>\n",
       "      <td>anger</td>\n",
       "      <td>m grab minute post feel greedy wrong</td>\n",
       "    </tr>\n",
       "    <tr>\n",
       "      <th>3</th>\n",
       "      <td>i am ever feeling nostalgic about the fireplac...</td>\n",
       "      <td>love</td>\n",
       "      <td>feel nostalgic fireplace know property</td>\n",
       "    </tr>\n",
       "    <tr>\n",
       "      <th>4</th>\n",
       "      <td>i am feeling grouchy</td>\n",
       "      <td>anger</td>\n",
       "      <td>feel grouchy</td>\n",
       "    </tr>\n",
       "  </tbody>\n",
       "</table>\n",
       "</div>"
      ],
      "text/plain": [
       "                                               tweet sentiment  \\\n",
       "0                            i didnt feel humiliated   sadness   \n",
       "1  i can go from feeling so hopeless to so damned...   sadness   \n",
       "2   im grabbing a minute to post i feel greedy wrong     anger   \n",
       "3  i am ever feeling nostalgic about the fireplac...      love   \n",
       "4                               i am feeling grouchy     anger   \n",
       "\n",
       "                                processed  \n",
       "0                      not feel humiliate  \n",
       "1   feel hopeless damn hopeful care awake  \n",
       "2    m grab minute post feel greedy wrong  \n",
       "3  feel nostalgic fireplace know property  \n",
       "4                            feel grouchy  "
      ]
     },
     "execution_count": 8,
     "metadata": {},
     "output_type": "execute_result"
    }
   ],
   "source": [
    "df_train['processed'] = df_train['tweet'].apply(preprocess_text)\n",
    "df_test['processed'] = df_test['tweet'].apply(preprocess_text)\n",
    "df_train.head()"
   ]
  },
  {
   "cell_type": "code",
   "execution_count": 9,
   "metadata": {},
   "outputs": [],
   "source": [
    "from sklearn.feature_extraction.text import TfidfVectorizer, CountVectorizer\n",
    "from sklearn.decomposition import LatentDirichletAllocation, NMF\n",
    "\n",
    "tfidf = TfidfVectorizer(max_df=0.95, min_df=2, stop_words='english')\n",
    "\n",
    "dtm_train = tfidf.fit_transform(df_train['processed'])\n",
    "dtm_test = tfidf.transform(df_test['processed'])"
   ]
  },
  {
   "cell_type": "code",
   "execution_count": 10,
   "metadata": {},
   "outputs": [
    {
     "data": {
      "text/html": [
       "<style>#sk-container-id-1 {color: black;background-color: white;}#sk-container-id-1 pre{padding: 0;}#sk-container-id-1 div.sk-toggleable {background-color: white;}#sk-container-id-1 label.sk-toggleable__label {cursor: pointer;display: block;width: 100%;margin-bottom: 0;padding: 0.3em;box-sizing: border-box;text-align: center;}#sk-container-id-1 label.sk-toggleable__label-arrow:before {content: \"▸\";float: left;margin-right: 0.25em;color: #696969;}#sk-container-id-1 label.sk-toggleable__label-arrow:hover:before {color: black;}#sk-container-id-1 div.sk-estimator:hover label.sk-toggleable__label-arrow:before {color: black;}#sk-container-id-1 div.sk-toggleable__content {max-height: 0;max-width: 0;overflow: hidden;text-align: left;background-color: #f0f8ff;}#sk-container-id-1 div.sk-toggleable__content pre {margin: 0.2em;color: black;border-radius: 0.25em;background-color: #f0f8ff;}#sk-container-id-1 input.sk-toggleable__control:checked~div.sk-toggleable__content {max-height: 200px;max-width: 100%;overflow: auto;}#sk-container-id-1 input.sk-toggleable__control:checked~label.sk-toggleable__label-arrow:before {content: \"▾\";}#sk-container-id-1 div.sk-estimator input.sk-toggleable__control:checked~label.sk-toggleable__label {background-color: #d4ebff;}#sk-container-id-1 div.sk-label input.sk-toggleable__control:checked~label.sk-toggleable__label {background-color: #d4ebff;}#sk-container-id-1 input.sk-hidden--visually {border: 0;clip: rect(1px 1px 1px 1px);clip: rect(1px, 1px, 1px, 1px);height: 1px;margin: -1px;overflow: hidden;padding: 0;position: absolute;width: 1px;}#sk-container-id-1 div.sk-estimator {font-family: monospace;background-color: #f0f8ff;border: 1px dotted black;border-radius: 0.25em;box-sizing: border-box;margin-bottom: 0.5em;}#sk-container-id-1 div.sk-estimator:hover {background-color: #d4ebff;}#sk-container-id-1 div.sk-parallel-item::after {content: \"\";width: 100%;border-bottom: 1px solid gray;flex-grow: 1;}#sk-container-id-1 div.sk-label:hover label.sk-toggleable__label {background-color: #d4ebff;}#sk-container-id-1 div.sk-serial::before {content: \"\";position: absolute;border-left: 1px solid gray;box-sizing: border-box;top: 0;bottom: 0;left: 50%;z-index: 0;}#sk-container-id-1 div.sk-serial {display: flex;flex-direction: column;align-items: center;background-color: white;padding-right: 0.2em;padding-left: 0.2em;position: relative;}#sk-container-id-1 div.sk-item {position: relative;z-index: 1;}#sk-container-id-1 div.sk-parallel {display: flex;align-items: stretch;justify-content: center;background-color: white;position: relative;}#sk-container-id-1 div.sk-item::before, #sk-container-id-1 div.sk-parallel-item::before {content: \"\";position: absolute;border-left: 1px solid gray;box-sizing: border-box;top: 0;bottom: 0;left: 50%;z-index: -1;}#sk-container-id-1 div.sk-parallel-item {display: flex;flex-direction: column;z-index: 1;position: relative;background-color: white;}#sk-container-id-1 div.sk-parallel-item:first-child::after {align-self: flex-end;width: 50%;}#sk-container-id-1 div.sk-parallel-item:last-child::after {align-self: flex-start;width: 50%;}#sk-container-id-1 div.sk-parallel-item:only-child::after {width: 0;}#sk-container-id-1 div.sk-dashed-wrapped {border: 1px dashed gray;margin: 0 0.4em 0.5em 0.4em;box-sizing: border-box;padding-bottom: 0.4em;background-color: white;}#sk-container-id-1 div.sk-label label {font-family: monospace;font-weight: bold;display: inline-block;line-height: 1.2em;}#sk-container-id-1 div.sk-label-container {text-align: center;}#sk-container-id-1 div.sk-container {/* jupyter's `normalize.less` sets `[hidden] { display: none; }` but bootstrap.min.css set `[hidden] { display: none !important; }` so we also need the `!important` here to be able to override the default hidden behavior on the sphinx rendered scikit-learn.org. See: https://github.com/scikit-learn/scikit-learn/issues/21755 */display: inline-block !important;position: relative;}#sk-container-id-1 div.sk-text-repr-fallback {display: none;}</style><div id=\"sk-container-id-1\" class=\"sk-top-container\"><div class=\"sk-text-repr-fallback\"><pre>LatentDirichletAllocation(learning_method=&#x27;online&#x27;, learning_offset=50.0,\n",
       "                          max_iter=5, n_components=32, random_state=0)</pre><b>In a Jupyter environment, please rerun this cell to show the HTML representation or trust the notebook. <br />On GitHub, the HTML representation is unable to render, please try loading this page with nbviewer.org.</b></div><div class=\"sk-container\" hidden><div class=\"sk-item\"><div class=\"sk-estimator sk-toggleable\"><input class=\"sk-toggleable__control sk-hidden--visually\" id=\"sk-estimator-id-1\" type=\"checkbox\" checked><label for=\"sk-estimator-id-1\" class=\"sk-toggleable__label sk-toggleable__label-arrow\">LatentDirichletAllocation</label><div class=\"sk-toggleable__content\"><pre>LatentDirichletAllocation(learning_method=&#x27;online&#x27;, learning_offset=50.0,\n",
       "                          max_iter=5, n_components=32, random_state=0)</pre></div></div></div></div></div>"
      ],
      "text/plain": [
       "LatentDirichletAllocation(learning_method='online', learning_offset=50.0,\n",
       "                          max_iter=5, n_components=32, random_state=0)"
      ]
     },
     "execution_count": 10,
     "metadata": {},
     "output_type": "execute_result"
    }
   ],
   "source": [
    "from sklearn.decomposition import LatentDirichletAllocation\n",
    "lda = LatentDirichletAllocation(n_components=32, max_iter=5, learning_method='online', learning_offset=50.,random_state=0)\n",
    "lda.fit(dtm_train)"
   ]
  },
  {
   "cell_type": "code",
   "execution_count": 11,
   "metadata": {},
   "outputs": [
    {
     "data": {
      "text/plain": [
       "(16000, 32)"
      ]
     },
     "execution_count": 11,
     "metadata": {},
     "output_type": "execute_result"
    }
   ],
   "source": [
    "lda_train = lda.transform(dtm_train)\n",
    "lda_test = lda.transform(dtm_test)\n",
    "lda_train.shape"
   ]
  },
  {
   "cell_type": "code",
   "execution_count": 12,
   "metadata": {},
   "outputs": [
    {
     "data": {
      "text/plain": [
       "array([[0.01465309, 0.01465309, 0.01465309, ..., 0.01465309, 0.01465309,\n",
       "        0.01465309],\n",
       "       [0.15621728, 0.00949822, 0.00949822, ..., 0.00949822, 0.00949822,\n",
       "        0.00949822],\n",
       "       [0.00951083, 0.00951083, 0.00951083, ..., 0.00951083, 0.14678471,\n",
       "        0.00951083],\n",
       "       ...,\n",
       "       [0.01122012, 0.01122012, 0.01122012, ..., 0.01122012, 0.01122012,\n",
       "        0.01122012],\n",
       "       [0.0103985 , 0.0103985 , 0.0103985 , ..., 0.0103985 , 0.0103985 ,\n",
       "        0.0103985 ],\n",
       "       [0.01042829, 0.01042829, 0.01042829, ..., 0.01042829, 0.01042829,\n",
       "        0.01042829]])"
      ]
     },
     "execution_count": 12,
     "metadata": {},
     "output_type": "execute_result"
    }
   ],
   "source": [
    "lda_train"
   ]
  },
  {
   "cell_type": "code",
   "execution_count": 13,
   "metadata": {},
   "outputs": [
    {
     "data": {
      "text/plain": [
       "array([4, 4, 0, ..., 2, 0, 4])"
      ]
     },
     "execution_count": 13,
     "metadata": {},
     "output_type": "execute_result"
    }
   ],
   "source": [
    "from sklearn.preprocessing import LabelEncoder\n",
    "le = LabelEncoder()\n",
    "y_train = le.fit_transform(df_train['sentiment'])\n",
    "y_test = le.transform(df_test['sentiment'])\n",
    "y_train"
   ]
  },
  {
   "cell_type": "code",
   "execution_count": 14,
   "metadata": {},
   "outputs": [
    {
     "name": "stdout",
     "output_type": "stream",
     "text": [
      "(18000, 5587)\n",
      "(11520, 5587)\n",
      "(2880, 5587)\n",
      "(3600, 5587)\n",
      "(11520,)\n",
      "(2880,)\n",
      "(3600,)\n"
     ]
    }
   ],
   "source": [
    "X_train_ = dtm_train.toarray()\n",
    "X_test_ = dtm_test.toarray()\n",
    "X_train_ = np.vstack((X_train_, X_test_))\n",
    "y_train_ = np.concatenate((y_train, y_test))\n",
    "\n",
    "print(X_train_.shape)\n",
    "from sklearn.utils.class_weight import compute_class_weight\n",
    "import numpy as np\n",
    "class_weights = compute_class_weight('balanced', classes=np.unique(y_train_), y=y_train_)\n",
    "\n",
    "from sklearn.model_selection import train_test_split\n",
    "X_train_, X_test_, y_train_, y_test_ = train_test_split(X_train_, y_train_, test_size=0.2, random_state=42, stratify=y_train_)\n",
    "X_train_, X_val_, y_train_, y_val_ = train_test_split(X_train_, y_train_, test_size=0.2, random_state=42, stratify=y_train_)\n",
    "\n",
    "print(X_train_.shape)\n",
    "print(X_val_.shape)\n",
    "print(X_test_.shape)\n",
    "print(y_train_.shape)\n",
    "print(y_val_.shape)\n",
    "print(y_test_.shape)"
   ]
  },
  {
   "cell_type": "code",
   "execution_count": 15,
   "metadata": {},
   "outputs": [
    {
     "data": {
      "text/plain": [
       "((11520, 6), (3600, 6), (2880, 6))"
      ]
     },
     "execution_count": 15,
     "metadata": {},
     "output_type": "execute_result"
    }
   ],
   "source": [
    "from keras.utils import to_categorical\n",
    "\n",
    "y_train_encoded = to_categorical(y_train_)\n",
    "y_test_encoded = to_categorical(y_test_)\n",
    "y_val_encoded = to_categorical(y_val_)\n",
    "y_train_encoded.shape, y_test_encoded.shape, y_val_encoded.shape"
   ]
  },
  {
   "cell_type": "code",
   "execution_count": 327,
   "metadata": {},
   "outputs": [],
   "source": [
    "# from sklearn.preprocessing import StandardScaler\n",
    "\n",
    "# experiments with standardized data is not as good as without standardization\n",
    "# std = StandardScaler()\n",
    "# std.fit(X_train_)\n",
    "# X_train_std = std.transform(X_train_)\n",
    "# X_test_std = std.transform(X_test_)\n",
    "# X_val_std = std.transform(X_val_)"
   ]
  },
  {
   "attachments": {},
   "cell_type": "markdown",
   "metadata": {},
   "source": [
    "##### Experiements"
   ]
  },
  {
   "cell_type": "code",
   "execution_count": 5,
   "metadata": {},
   "outputs": [],
   "source": [
    "import spacy\n",
    "nlp = spacy.load(\"en_core_web_md\")"
   ]
  },
  {
   "cell_type": "code",
   "execution_count": 6,
   "metadata": {},
   "outputs": [],
   "source": [
    "def get_tweets_sentiment(df_train):\n",
    "    i = 0\n",
    "    dict_label = []\n",
    "    list_embed = []    \n",
    "    size_data = df_train.shape[0]\n",
    "\n",
    "    for sentence in list(df_train.itertuples())[0:size_data]:\n",
    "        text_embed =np.ndarray.flatten(nlp(sentence.tweet).vector)\n",
    "        observed_sentiment = sentence.sentiment\n",
    "        if observed_sentiment == 'joy':\n",
    "            label = 0.0\n",
    "        elif observed_sentiment == 'sadness':\n",
    "            label = 1.0\n",
    "        elif observed_sentiment == 'anger':\n",
    "            label = 2.0\n",
    "        elif observed_sentiment == 'fear':\n",
    "            label = 3.0\n",
    "        elif observed_sentiment == 'love':\n",
    "            label = 4.0\n",
    "        else:\n",
    "            label = 5.0\n",
    "        dict_label.append(label)\n",
    "        list_embed.append(np.array([text_embed]))\n",
    "        i += 1\n",
    "    return dict_label, list_embed"
   ]
  },
  {
   "cell_type": "code",
   "execution_count": 7,
   "metadata": {},
   "outputs": [],
   "source": [
    "training_set = get_tweets_sentiment(df_train)\n",
    "test_set = get_tweets_sentiment(df_test)"
   ]
  },
  {
   "cell_type": "code",
   "execution_count": 378,
   "metadata": {},
   "outputs": [],
   "source": [
    "y_train_label = training_set[0]\n",
    "X_train_embed = np.array(training_set[1])\n",
    "\n",
    "y_test_label = test_set[0]\n",
    "X_test_embed = np.array(test_set[1])"
   ]
  },
  {
   "cell_type": "code",
   "execution_count": 379,
   "metadata": {},
   "outputs": [],
   "source": [
    "X_train = pd.DataFrame.from_dict(X_train_embed_dict, orient='index')\n",
    "X_test = pd.DataFrame.from_dict(X_test_embed_dict, orient='index')"
   ]
  },
  {
   "cell_type": "code",
   "execution_count": 380,
   "metadata": {},
   "outputs": [],
   "source": [
    "y_train = pd.DataFrame({'sentiment': pd.Series(y_train_label)})\n",
    "y_test = pd.DataFrame({'sentiment': pd.Series(y_test_label)})"
   ]
  },
  {
   "cell_type": "code",
   "execution_count": 381,
   "metadata": {},
   "outputs": [],
   "source": [
    "X_train = X_train.join(y_train)\n",
    "X_test = X_test.join(y_test)"
   ]
  },
  {
   "cell_type": "code",
   "execution_count": 114,
   "metadata": {},
   "outputs": [
    {
     "data": {
      "text/html": [
       "<div>\n",
       "<style scoped>\n",
       "    .dataframe tbody tr th:only-of-type {\n",
       "        vertical-align: middle;\n",
       "    }\n",
       "\n",
       "    .dataframe tbody tr th {\n",
       "        vertical-align: top;\n",
       "    }\n",
       "\n",
       "    .dataframe thead th {\n",
       "        text-align: right;\n",
       "    }\n",
       "</style>\n",
       "<table border=\"1\" class=\"dataframe\">\n",
       "  <thead>\n",
       "    <tr style=\"text-align: right;\">\n",
       "      <th></th>\n",
       "      <th>0</th>\n",
       "      <th>1</th>\n",
       "      <th>2</th>\n",
       "      <th>3</th>\n",
       "      <th>4</th>\n",
       "      <th>5</th>\n",
       "      <th>6</th>\n",
       "      <th>7</th>\n",
       "      <th>8</th>\n",
       "      <th>9</th>\n",
       "      <th>...</th>\n",
       "      <th>291</th>\n",
       "      <th>292</th>\n",
       "      <th>293</th>\n",
       "      <th>294</th>\n",
       "      <th>295</th>\n",
       "      <th>296</th>\n",
       "      <th>297</th>\n",
       "      <th>298</th>\n",
       "      <th>299</th>\n",
       "      <th>sentiment</th>\n",
       "    </tr>\n",
       "  </thead>\n",
       "  <tbody>\n",
       "    <tr>\n",
       "      <th>0</th>\n",
       "      <td>-0.244544</td>\n",
       "      <td>3.320704</td>\n",
       "      <td>-4.349200</td>\n",
       "      <td>-4.938100</td>\n",
       "      <td>-5.548332</td>\n",
       "      <td>-0.334612</td>\n",
       "      <td>2.851000</td>\n",
       "      <td>4.615040</td>\n",
       "      <td>-3.909860</td>\n",
       "      <td>1.156213</td>\n",
       "      <td>...</td>\n",
       "      <td>1.858890</td>\n",
       "      <td>3.743104</td>\n",
       "      <td>-4.620500</td>\n",
       "      <td>-2.027022</td>\n",
       "      <td>-0.458748</td>\n",
       "      <td>2.146400</td>\n",
       "      <td>0.473382</td>\n",
       "      <td>-5.862100</td>\n",
       "      <td>3.241746</td>\n",
       "      <td>1.0</td>\n",
       "    </tr>\n",
       "    <tr>\n",
       "      <th>1</th>\n",
       "      <td>0.223656</td>\n",
       "      <td>1.766241</td>\n",
       "      <td>-4.094052</td>\n",
       "      <td>-2.746358</td>\n",
       "      <td>-0.272167</td>\n",
       "      <td>1.918542</td>\n",
       "      <td>0.606388</td>\n",
       "      <td>3.744067</td>\n",
       "      <td>-2.564810</td>\n",
       "      <td>0.448512</td>\n",
       "      <td>...</td>\n",
       "      <td>-0.478352</td>\n",
       "      <td>1.169669</td>\n",
       "      <td>-1.649001</td>\n",
       "      <td>-0.494671</td>\n",
       "      <td>0.486054</td>\n",
       "      <td>0.268000</td>\n",
       "      <td>0.201243</td>\n",
       "      <td>-4.229311</td>\n",
       "      <td>2.885545</td>\n",
       "      <td>1.0</td>\n",
       "    </tr>\n",
       "    <tr>\n",
       "      <th>2</th>\n",
       "      <td>-0.559911</td>\n",
       "      <td>1.445776</td>\n",
       "      <td>-3.058882</td>\n",
       "      <td>-3.555917</td>\n",
       "      <td>-2.962154</td>\n",
       "      <td>-0.854085</td>\n",
       "      <td>1.796378</td>\n",
       "      <td>4.492185</td>\n",
       "      <td>-3.606849</td>\n",
       "      <td>1.852871</td>\n",
       "      <td>...</td>\n",
       "      <td>1.879795</td>\n",
       "      <td>2.678336</td>\n",
       "      <td>-0.826156</td>\n",
       "      <td>-1.163337</td>\n",
       "      <td>2.666765</td>\n",
       "      <td>2.665115</td>\n",
       "      <td>0.074175</td>\n",
       "      <td>-6.811033</td>\n",
       "      <td>4.418684</td>\n",
       "      <td>2.0</td>\n",
       "    </tr>\n",
       "    <tr>\n",
       "      <th>3</th>\n",
       "      <td>0.051930</td>\n",
       "      <td>1.353643</td>\n",
       "      <td>-2.263858</td>\n",
       "      <td>-2.285067</td>\n",
       "      <td>0.094969</td>\n",
       "      <td>0.224866</td>\n",
       "      <td>0.950704</td>\n",
       "      <td>5.104722</td>\n",
       "      <td>-2.586915</td>\n",
       "      <td>1.873142</td>\n",
       "      <td>...</td>\n",
       "      <td>-0.487933</td>\n",
       "      <td>3.059388</td>\n",
       "      <td>-1.453429</td>\n",
       "      <td>-2.711442</td>\n",
       "      <td>0.441768</td>\n",
       "      <td>2.066405</td>\n",
       "      <td>-0.303266</td>\n",
       "      <td>-4.992957</td>\n",
       "      <td>2.634871</td>\n",
       "      <td>4.0</td>\n",
       "    </tr>\n",
       "    <tr>\n",
       "      <th>4</th>\n",
       "      <td>1.735625</td>\n",
       "      <td>-4.124410</td>\n",
       "      <td>-0.825107</td>\n",
       "      <td>-5.556050</td>\n",
       "      <td>-5.838550</td>\n",
       "      <td>-1.161450</td>\n",
       "      <td>-1.645423</td>\n",
       "      <td>4.546025</td>\n",
       "      <td>-5.097775</td>\n",
       "      <td>5.398050</td>\n",
       "      <td>...</td>\n",
       "      <td>-0.893840</td>\n",
       "      <td>4.514425</td>\n",
       "      <td>-5.539950</td>\n",
       "      <td>-0.371385</td>\n",
       "      <td>0.628725</td>\n",
       "      <td>2.848050</td>\n",
       "      <td>0.691625</td>\n",
       "      <td>-6.790800</td>\n",
       "      <td>5.685215</td>\n",
       "      <td>2.0</td>\n",
       "    </tr>\n",
       "  </tbody>\n",
       "</table>\n",
       "<p>5 rows × 301 columns</p>\n",
       "</div>"
      ],
      "text/plain": [
       "          0         1         2         3         4         5         6  \\\n",
       "0 -0.244544  3.320704 -4.349200 -4.938100 -5.548332 -0.334612  2.851000   \n",
       "1  0.223656  1.766241 -4.094052 -2.746358 -0.272167  1.918542  0.606388   \n",
       "2 -0.559911  1.445776 -3.058882 -3.555917 -2.962154 -0.854085  1.796378   \n",
       "3  0.051930  1.353643 -2.263858 -2.285067  0.094969  0.224866  0.950704   \n",
       "4  1.735625 -4.124410 -0.825107 -5.556050 -5.838550 -1.161450 -1.645423   \n",
       "\n",
       "          7         8         9  ...       291       292       293       294  \\\n",
       "0  4.615040 -3.909860  1.156213  ...  1.858890  3.743104 -4.620500 -2.027022   \n",
       "1  3.744067 -2.564810  0.448512  ... -0.478352  1.169669 -1.649001 -0.494671   \n",
       "2  4.492185 -3.606849  1.852871  ...  1.879795  2.678336 -0.826156 -1.163337   \n",
       "3  5.104722 -2.586915  1.873142  ... -0.487933  3.059388 -1.453429 -2.711442   \n",
       "4  4.546025 -5.097775  5.398050  ... -0.893840  4.514425 -5.539950 -0.371385   \n",
       "\n",
       "        295       296       297       298       299  sentiment  \n",
       "0 -0.458748  2.146400  0.473382 -5.862100  3.241746        1.0  \n",
       "1  0.486054  0.268000  0.201243 -4.229311  2.885545        1.0  \n",
       "2  2.666765  2.665115  0.074175 -6.811033  4.418684        2.0  \n",
       "3  0.441768  2.066405 -0.303266 -4.992957  2.634871        4.0  \n",
       "4  0.628725  2.848050  0.691625 -6.790800  5.685215        2.0  \n",
       "\n",
       "[5 rows x 301 columns]"
      ]
     },
     "execution_count": 114,
     "metadata": {},
     "output_type": "execute_result"
    }
   ],
   "source": [
    "X_train.head()"
   ]
  },
  {
   "cell_type": "code",
   "execution_count": 118,
   "metadata": {},
   "outputs": [
    {
     "data": {
      "text/html": [
       "<div>\n",
       "<style scoped>\n",
       "    .dataframe tbody tr th:only-of-type {\n",
       "        vertical-align: middle;\n",
       "    }\n",
       "\n",
       "    .dataframe tbody tr th {\n",
       "        vertical-align: top;\n",
       "    }\n",
       "\n",
       "    .dataframe thead th {\n",
       "        text-align: right;\n",
       "    }\n",
       "</style>\n",
       "<table border=\"1\" class=\"dataframe\">\n",
       "  <thead>\n",
       "    <tr style=\"text-align: right;\">\n",
       "      <th></th>\n",
       "      <th>0</th>\n",
       "      <th>1</th>\n",
       "      <th>2</th>\n",
       "      <th>3</th>\n",
       "      <th>4</th>\n",
       "      <th>5</th>\n",
       "      <th>6</th>\n",
       "      <th>7</th>\n",
       "      <th>8</th>\n",
       "      <th>9</th>\n",
       "      <th>...</th>\n",
       "      <th>291</th>\n",
       "      <th>292</th>\n",
       "      <th>293</th>\n",
       "      <th>294</th>\n",
       "      <th>295</th>\n",
       "      <th>296</th>\n",
       "      <th>297</th>\n",
       "      <th>298</th>\n",
       "      <th>299</th>\n",
       "      <th>sentiment</th>\n",
       "    </tr>\n",
       "  </thead>\n",
       "  <tbody>\n",
       "    <tr>\n",
       "      <th>0</th>\n",
       "      <td>-0.646664</td>\n",
       "      <td>-0.060523</td>\n",
       "      <td>-3.147135</td>\n",
       "      <td>-3.579636</td>\n",
       "      <td>-3.076929</td>\n",
       "      <td>0.218848</td>\n",
       "      <td>1.519892</td>\n",
       "      <td>5.144284</td>\n",
       "      <td>-3.581683</td>\n",
       "      <td>1.069953</td>\n",
       "      <td>...</td>\n",
       "      <td>0.593741</td>\n",
       "      <td>2.277497</td>\n",
       "      <td>-2.253524</td>\n",
       "      <td>-1.521812</td>\n",
       "      <td>3.472223</td>\n",
       "      <td>2.587848</td>\n",
       "      <td>-0.401808</td>\n",
       "      <td>-4.964146</td>\n",
       "      <td>6.498646</td>\n",
       "      <td>1.0</td>\n",
       "    </tr>\n",
       "    <tr>\n",
       "      <th>1</th>\n",
       "      <td>2.025809</td>\n",
       "      <td>-1.956960</td>\n",
       "      <td>-2.446465</td>\n",
       "      <td>-5.423300</td>\n",
       "      <td>-3.885370</td>\n",
       "      <td>-1.520104</td>\n",
       "      <td>1.121217</td>\n",
       "      <td>5.694414</td>\n",
       "      <td>-4.900402</td>\n",
       "      <td>3.754002</td>\n",
       "      <td>...</td>\n",
       "      <td>1.422118</td>\n",
       "      <td>3.222383</td>\n",
       "      <td>-2.574567</td>\n",
       "      <td>-1.702118</td>\n",
       "      <td>2.256141</td>\n",
       "      <td>1.779407</td>\n",
       "      <td>-1.356126</td>\n",
       "      <td>-8.708911</td>\n",
       "      <td>2.917247</td>\n",
       "      <td>1.0</td>\n",
       "    </tr>\n",
       "    <tr>\n",
       "      <th>2</th>\n",
       "      <td>-0.379754</td>\n",
       "      <td>2.021777</td>\n",
       "      <td>-4.115047</td>\n",
       "      <td>-3.925060</td>\n",
       "      <td>-1.801270</td>\n",
       "      <td>-0.509126</td>\n",
       "      <td>0.535020</td>\n",
       "      <td>5.488764</td>\n",
       "      <td>-2.835824</td>\n",
       "      <td>2.021240</td>\n",
       "      <td>...</td>\n",
       "      <td>0.886601</td>\n",
       "      <td>1.461787</td>\n",
       "      <td>-3.441629</td>\n",
       "      <td>-0.755121</td>\n",
       "      <td>0.246921</td>\n",
       "      <td>1.282389</td>\n",
       "      <td>0.437262</td>\n",
       "      <td>-7.624653</td>\n",
       "      <td>1.427426</td>\n",
       "      <td>1.0</td>\n",
       "    </tr>\n",
       "    <tr>\n",
       "      <th>3</th>\n",
       "      <td>-2.127041</td>\n",
       "      <td>-0.113063</td>\n",
       "      <td>-3.459354</td>\n",
       "      <td>-0.322099</td>\n",
       "      <td>1.723492</td>\n",
       "      <td>-1.035290</td>\n",
       "      <td>-0.076402</td>\n",
       "      <td>4.944045</td>\n",
       "      <td>-1.521673</td>\n",
       "      <td>2.070339</td>\n",
       "      <td>...</td>\n",
       "      <td>0.572273</td>\n",
       "      <td>1.472116</td>\n",
       "      <td>-2.730601</td>\n",
       "      <td>-0.811309</td>\n",
       "      <td>1.271370</td>\n",
       "      <td>0.422168</td>\n",
       "      <td>-0.468638</td>\n",
       "      <td>-6.789992</td>\n",
       "      <td>-0.746808</td>\n",
       "      <td>0.0</td>\n",
       "    </tr>\n",
       "    <tr>\n",
       "      <th>4</th>\n",
       "      <td>-1.536985</td>\n",
       "      <td>2.090232</td>\n",
       "      <td>-2.700058</td>\n",
       "      <td>-3.622260</td>\n",
       "      <td>-0.668053</td>\n",
       "      <td>-1.547755</td>\n",
       "      <td>1.065863</td>\n",
       "      <td>4.673425</td>\n",
       "      <td>-2.375048</td>\n",
       "      <td>2.303454</td>\n",
       "      <td>...</td>\n",
       "      <td>-0.101827</td>\n",
       "      <td>3.305504</td>\n",
       "      <td>-0.958210</td>\n",
       "      <td>-1.648267</td>\n",
       "      <td>2.466753</td>\n",
       "      <td>2.094077</td>\n",
       "      <td>0.081915</td>\n",
       "      <td>-5.603895</td>\n",
       "      <td>2.635907</td>\n",
       "      <td>1.0</td>\n",
       "    </tr>\n",
       "  </tbody>\n",
       "</table>\n",
       "<p>5 rows × 301 columns</p>\n",
       "</div>"
      ],
      "text/plain": [
       "          0         1         2         3         4         5         6  \\\n",
       "0 -0.646664 -0.060523 -3.147135 -3.579636 -3.076929  0.218848  1.519892   \n",
       "1  2.025809 -1.956960 -2.446465 -5.423300 -3.885370 -1.520104  1.121217   \n",
       "2 -0.379754  2.021777 -4.115047 -3.925060 -1.801270 -0.509126  0.535020   \n",
       "3 -2.127041 -0.113063 -3.459354 -0.322099  1.723492 -1.035290 -0.076402   \n",
       "4 -1.536985  2.090232 -2.700058 -3.622260 -0.668053 -1.547755  1.065863   \n",
       "\n",
       "          7         8         9  ...       291       292       293       294  \\\n",
       "0  5.144284 -3.581683  1.069953  ...  0.593741  2.277497 -2.253524 -1.521812   \n",
       "1  5.694414 -4.900402  3.754002  ...  1.422118  3.222383 -2.574567 -1.702118   \n",
       "2  5.488764 -2.835824  2.021240  ...  0.886601  1.461787 -3.441629 -0.755121   \n",
       "3  4.944045 -1.521673  2.070339  ...  0.572273  1.472116 -2.730601 -0.811309   \n",
       "4  4.673425 -2.375048  2.303454  ... -0.101827  3.305504 -0.958210 -1.648267   \n",
       "\n",
       "        295       296       297       298       299  sentiment  \n",
       "0  3.472223  2.587848 -0.401808 -4.964146  6.498646        1.0  \n",
       "1  2.256141  1.779407 -1.356126 -8.708911  2.917247        1.0  \n",
       "2  0.246921  1.282389  0.437262 -7.624653  1.427426        1.0  \n",
       "3  1.271370  0.422168 -0.468638 -6.789992 -0.746808        0.0  \n",
       "4  2.466753  2.094077  0.081915 -5.603895  2.635907        1.0  \n",
       "\n",
       "[5 rows x 301 columns]"
      ]
     },
     "execution_count": 118,
     "metadata": {},
     "output_type": "execute_result"
    }
   ],
   "source": [
    "X_test.head()"
   ]
  },
  {
   "cell_type": "code",
   "execution_count": 382,
   "metadata": {},
   "outputs": [],
   "source": [
    "y_train = X_train['sentiment']\n",
    "X_train = X_train.drop('sentiment', axis=1)\n",
    "\n",
    "y_test = X_test['sentiment']\n",
    "X_test = X_test.drop('sentiment', axis=1)"
   ]
  },
  {
   "cell_type": "code",
   "execution_count": 383,
   "metadata": {},
   "outputs": [
    {
     "name": "stdout",
     "output_type": "stream",
     "text": [
      "(16000, 6)\n"
     ]
    }
   ],
   "source": [
    "from keras.utils import to_categorical\n",
    "\n",
    "y_train_encoded = to_categorical(y_train)\n",
    "y_test_encoded = to_categorical(y_test)\n",
    "print(y_train_encoded.shape)"
   ]
  },
  {
   "cell_type": "code",
   "execution_count": 401,
   "metadata": {},
   "outputs": [
    {
     "data": {
      "text/plain": [
       "(-11.600116729736328, 13.568775177001953)"
      ]
     },
     "execution_count": 401,
     "metadata": {},
     "output_type": "execute_result"
    }
   ],
   "source": [
    "min_num = np.inf\n",
    "max_num = -np.inf\n",
    "\n",
    "for i in range(300):\n",
    "    if min(X_train.iloc[:, i]) < min_num:\n",
    "        min_num = min(X_train.iloc[:, i])\n",
    "    if max(X_train.iloc[:, i]) > max_num:\n",
    "        max_num = max(X_train.iloc[:, i])\n",
    "min_num, max_num"
   ]
  },
  {
   "cell_type": "code",
   "execution_count": 402,
   "metadata": {},
   "outputs": [],
   "source": [
    "from sklearn.preprocessing import StandardScaler\n",
    "std = StandardScaler()\n",
    "\n",
    "X_train = std.fit_transform(X_train)\n",
    "X_test = std.transform(X_test)"
   ]
  },
  {
   "attachments": {},
   "cell_type": "markdown",
   "metadata": {},
   "source": [
    "# Fully connect NN"
   ]
  },
  {
   "cell_type": "code",
   "execution_count": 16,
   "metadata": {},
   "outputs": [
    {
     "name": "stdout",
     "output_type": "stream",
     "text": [
      "Model: \"sequential\"\n",
      "_________________________________________________________________\n",
      " Layer (type)                Output Shape              Param #   \n",
      "=================================================================\n",
      " dense (Dense)               (None, 4096)              22888448  \n",
      "                                                                 \n",
      " dense_1 (Dense)             (None, 2048)              8390656   \n",
      "                                                                 \n",
      " dropout (Dropout)           (None, 2048)              0         \n",
      "                                                                 \n",
      " dense_2 (Dense)             (None, 1024)              2098176   \n",
      "                                                                 \n",
      " dense_3 (Dense)             (None, 512)               524800    \n",
      "                                                                 \n",
      " dropout_1 (Dropout)         (None, 512)               0         \n",
      "                                                                 \n",
      " dense_4 (Dense)             (None, 64)                32832     \n",
      "                                                                 \n",
      " dense_5 (Dense)             (None, 6)                 390       \n",
      "                                                                 \n",
      "=================================================================\n",
      "Total params: 33,935,302\n",
      "Trainable params: 33,935,302\n",
      "Non-trainable params: 0\n",
      "_________________________________________________________________\n"
     ]
    }
   ],
   "source": [
    "from tensorflow.keras.layers import Dense, Dropout\n",
    "from tensorflow.keras import Sequential\n",
    "import tensorflow as tf\n",
    "\n",
    "model = Sequential()\n",
    "model.add(Dense(4096, activation='selu', input_shape=(X_train_.shape[1],), kernel_regularizer=tf.keras.regularizers.l2(0.01)))\n",
    "model.add(Dense(2048, activation='selu', kernel_regularizer=tf.keras.regularizers.l2(0.01)))\n",
    "model.add(Dropout(0.5))\n",
    "model.add(Dense(1024, activation='selu', kernel_regularizer=tf.keras.regularizers.l2(0.1)))\n",
    "# model.add(Dropout(0.2)) kernel_regularizer=tf.keras.regularizers.l2(0.01)\n",
    "model.add(Dense(512, activation='selu', ))\n",
    "model.add(Dropout(0.5))\n",
    "# model.add(Dense(128, activation='selu'))\n",
    "model.add(Dense(64, activation='selu',))\n",
    "model.add(Dense(6, activation='softmax'))\n",
    "\n",
    "model.layers[-1].bias.assign(class_weights)\n",
    "model.compile(optimizer='Adam', loss=tf.losses.categorical_crossentropy, metrics=['accuracy'])\n",
    "model.summary()"
   ]
  },
  {
   "cell_type": "code",
   "execution_count": 17,
   "metadata": {},
   "outputs": [],
   "source": [
    "import math\n",
    "from keras.callbacks import LearningRateScheduler\n",
    "from keras.callbacks import EarlyStopping, CallbackList, ReduceLROnPlateau\n",
    "\n",
    "\n",
    "def step_decay(epoch):\n",
    "    initial_lrate = 0.001\n",
    "    drop = 0.5\n",
    "    epochs_drop = 10.0\n",
    "    lrate = initial_lrate * math.pow(drop, math.floor((1 + epoch) / epochs_drop))\n",
    "    return lrate\n",
    "\n",
    "lr_scheduler = LearningRateScheduler(step_decay)\n",
    "\n",
    "early_stopping = EarlyStopping(monitor='val_loss', restore_best_weights=True, patience=5) # "
   ]
  },
  {
   "cell_type": "code",
   "execution_count": 18,
   "metadata": {},
   "outputs": [
    {
     "name": "stdout",
     "output_type": "stream",
     "text": [
      "Epoch 1/100\n"
     ]
    },
    {
     "name": "stderr",
     "output_type": "stream",
     "text": [
      "2023-07-04 20:52:47.832212: W tensorflow/tsl/platform/profile_utils/cpu_utils.cc:128] Failed to get CPU frequency: 0 Hz\n"
     ]
    },
    {
     "name": "stdout",
     "output_type": "stream",
     "text": [
      "12/12 [==============================] - 7s 561ms/step - loss: 147.6198 - accuracy: 0.4026 - val_loss: 78.2411 - val_accuracy: 0.7299 - lr: 0.0010\n",
      "Epoch 2/100\n",
      "12/12 [==============================] - 6s 527ms/step - loss: 49.4107 - accuracy: 0.8329 - val_loss: 22.9675 - val_accuracy: 0.8309 - lr: 0.0010\n",
      "Epoch 3/100\n",
      "12/12 [==============================] - 8s 635ms/step - loss: 13.9102 - accuracy: 0.9003 - val_loss: 6.3203 - val_accuracy: 0.8510 - lr: 0.0010\n",
      "Epoch 4/100\n",
      "12/12 [==============================] - 7s 598ms/step - loss: 3.8598 - accuracy: 0.9103 - val_loss: 2.0725 - val_accuracy: 0.8438 - lr: 0.0010\n",
      "Epoch 5/100\n",
      "12/12 [==============================] - 8s 707ms/step - loss: 1.4440 - accuracy: 0.9042 - val_loss: 1.2961 - val_accuracy: 0.7976 - lr: 0.0010\n",
      "Epoch 6/100\n",
      "12/12 [==============================] - 9s 734ms/step - loss: 0.9928 - accuracy: 0.8970 - val_loss: 1.0691 - val_accuracy: 0.8306 - lr: 0.0010\n",
      "Epoch 7/100\n",
      "12/12 [==============================] - 8s 696ms/step - loss: 0.8557 - accuracy: 0.9029 - val_loss: 0.9641 - val_accuracy: 0.8319 - lr: 0.0010\n",
      "Epoch 8/100\n",
      "12/12 [==============================] - 8s 636ms/step - loss: 0.7524 - accuracy: 0.9155 - val_loss: 0.8923 - val_accuracy: 0.8337 - lr: 0.0010\n",
      "Epoch 9/100\n",
      "12/12 [==============================] - 7s 622ms/step - loss: 0.6849 - accuracy: 0.9187 - val_loss: 0.8967 - val_accuracy: 0.8319 - lr: 0.0010\n",
      "Epoch 10/100\n",
      "12/12 [==============================] - 9s 721ms/step - loss: 0.5908 - accuracy: 0.9450 - val_loss: 0.8441 - val_accuracy: 0.8340 - lr: 5.0000e-04\n",
      "Epoch 11/100\n",
      "12/12 [==============================] - 8s 683ms/step - loss: 0.5037 - accuracy: 0.9608 - val_loss: 0.7619 - val_accuracy: 0.8507 - lr: 5.0000e-04\n",
      "Epoch 12/100\n",
      "12/12 [==============================] - 8s 641ms/step - loss: 0.4532 - accuracy: 0.9690 - val_loss: 0.7412 - val_accuracy: 0.8472 - lr: 5.0000e-04\n",
      "Epoch 13/100\n",
      "12/12 [==============================] - 8s 661ms/step - loss: 0.4281 - accuracy: 0.9684 - val_loss: 0.7300 - val_accuracy: 0.8438 - lr: 5.0000e-04\n",
      "Epoch 14/100\n",
      "12/12 [==============================] - 8s 692ms/step - loss: 0.4193 - accuracy: 0.9691 - val_loss: 0.7325 - val_accuracy: 0.8389 - lr: 5.0000e-04\n",
      "Epoch 15/100\n",
      "12/12 [==============================] - 7s 620ms/step - loss: 0.4132 - accuracy: 0.9674 - val_loss: 0.7355 - val_accuracy: 0.8444 - lr: 5.0000e-04\n",
      "Epoch 16/100\n",
      "12/12 [==============================] - 9s 778ms/step - loss: 0.4006 - accuracy: 0.9701 - val_loss: 0.7134 - val_accuracy: 0.8403 - lr: 5.0000e-04\n",
      "Epoch 17/100\n",
      "12/12 [==============================] - 9s 731ms/step - loss: 0.3895 - accuracy: 0.9698 - val_loss: 0.7130 - val_accuracy: 0.8392 - lr: 5.0000e-04\n",
      "Epoch 18/100\n",
      "12/12 [==============================] - 8s 639ms/step - loss: 0.3824 - accuracy: 0.9700 - val_loss: 0.7263 - val_accuracy: 0.8462 - lr: 5.0000e-04\n",
      "Epoch 19/100\n",
      "12/12 [==============================] - 8s 695ms/step - loss: 0.3672 - accuracy: 0.9717 - val_loss: 0.7153 - val_accuracy: 0.8358 - lr: 5.0000e-04\n",
      "Epoch 20/100\n",
      "12/12 [==============================] - 9s 764ms/step - loss: 0.3422 - accuracy: 0.9802 - val_loss: 0.6974 - val_accuracy: 0.8403 - lr: 2.5000e-04\n",
      "Epoch 21/100\n",
      "12/12 [==============================] - 8s 677ms/step - loss: 0.3233 - accuracy: 0.9831 - val_loss: 0.6806 - val_accuracy: 0.8434 - lr: 2.5000e-04\n",
      "Epoch 22/100\n",
      "12/12 [==============================] - 8s 687ms/step - loss: 0.3114 - accuracy: 0.9834 - val_loss: 0.6761 - val_accuracy: 0.8389 - lr: 2.5000e-04\n",
      "Epoch 23/100\n",
      "12/12 [==============================] - 9s 714ms/step - loss: 0.3037 - accuracy: 0.9848 - val_loss: 0.6731 - val_accuracy: 0.8431 - lr: 2.5000e-04\n",
      "Epoch 24/100\n",
      "12/12 [==============================] - 8s 678ms/step - loss: 0.2996 - accuracy: 0.9852 - val_loss: 0.6843 - val_accuracy: 0.8424 - lr: 2.5000e-04\n",
      "Epoch 25/100\n",
      "12/12 [==============================] - 9s 711ms/step - loss: 0.3000 - accuracy: 0.9826 - val_loss: 0.6942 - val_accuracy: 0.8413 - lr: 2.5000e-04\n",
      "Epoch 26/100\n",
      "12/12 [==============================] - 8s 678ms/step - loss: 0.2980 - accuracy: 0.9827 - val_loss: 0.6775 - val_accuracy: 0.8410 - lr: 2.5000e-04\n",
      "Epoch 27/100\n",
      "12/12 [==============================] - 9s 759ms/step - loss: 0.2883 - accuracy: 0.9857 - val_loss: 0.6816 - val_accuracy: 0.8392 - lr: 2.5000e-04\n",
      "Epoch 28/100\n",
      "12/12 [==============================] - 8s 641ms/step - loss: 0.2845 - accuracy: 0.9861 - val_loss: 0.6684 - val_accuracy: 0.8417 - lr: 2.5000e-04\n",
      "Epoch 29/100\n",
      "12/12 [==============================] - 9s 728ms/step - loss: 0.2795 - accuracy: 0.9859 - val_loss: 0.6649 - val_accuracy: 0.8406 - lr: 2.5000e-04\n",
      "Epoch 30/100\n",
      "12/12 [==============================] - 9s 780ms/step - loss: 0.2708 - accuracy: 0.9871 - val_loss: 0.6656 - val_accuracy: 0.8424 - lr: 1.2500e-04\n",
      "Epoch 31/100\n",
      "12/12 [==============================] - 9s 728ms/step - loss: 0.2661 - accuracy: 0.9885 - val_loss: 0.6619 - val_accuracy: 0.8403 - lr: 1.2500e-04\n",
      "Epoch 32/100\n",
      "12/12 [==============================] - 10s 816ms/step - loss: 0.2663 - accuracy: 0.9871 - val_loss: 0.6656 - val_accuracy: 0.8389 - lr: 1.2500e-04\n",
      "Epoch 33/100\n",
      "12/12 [==============================] - 9s 749ms/step - loss: 0.2632 - accuracy: 0.9873 - val_loss: 0.6746 - val_accuracy: 0.8378 - lr: 1.2500e-04\n",
      "Epoch 34/100\n",
      "12/12 [==============================] - 9s 746ms/step - loss: 0.2595 - accuracy: 0.9886 - val_loss: 0.6633 - val_accuracy: 0.8441 - lr: 1.2500e-04\n",
      "Epoch 35/100\n",
      "12/12 [==============================] - 9s 737ms/step - loss: 0.2561 - accuracy: 0.9896 - val_loss: 0.6540 - val_accuracy: 0.8431 - lr: 1.2500e-04\n",
      "Epoch 36/100\n",
      "12/12 [==============================] - 9s 772ms/step - loss: 0.2552 - accuracy: 0.9885 - val_loss: 0.6591 - val_accuracy: 0.8420 - lr: 1.2500e-04\n",
      "Epoch 37/100\n",
      "12/12 [==============================] - 9s 771ms/step - loss: 0.2545 - accuracy: 0.9881 - val_loss: 0.6576 - val_accuracy: 0.8431 - lr: 1.2500e-04\n",
      "Epoch 38/100\n",
      "12/12 [==============================] - 9s 785ms/step - loss: 0.2522 - accuracy: 0.9886 - val_loss: 0.6581 - val_accuracy: 0.8438 - lr: 1.2500e-04\n",
      "Epoch 39/100\n",
      "12/12 [==============================] - 9s 738ms/step - loss: 0.2518 - accuracy: 0.9889 - val_loss: 0.6626 - val_accuracy: 0.8396 - lr: 1.2500e-04\n",
      "Epoch 40/100\n",
      "12/12 [==============================] - 9s 723ms/step - loss: 0.2472 - accuracy: 0.9894 - val_loss: 0.6526 - val_accuracy: 0.8424 - lr: 6.2500e-05\n",
      "Epoch 41/100\n",
      "12/12 [==============================] - 9s 709ms/step - loss: 0.2448 - accuracy: 0.9899 - val_loss: 0.6520 - val_accuracy: 0.8410 - lr: 6.2500e-05\n",
      "Epoch 42/100\n",
      "12/12 [==============================] - 10s 815ms/step - loss: 0.2431 - accuracy: 0.9898 - val_loss: 0.6493 - val_accuracy: 0.8413 - lr: 6.2500e-05\n",
      "Epoch 43/100\n",
      "12/12 [==============================] - 9s 691ms/step - loss: 0.2415 - accuracy: 0.9905 - val_loss: 0.6505 - val_accuracy: 0.8410 - lr: 6.2500e-05\n",
      "Epoch 44/100\n",
      "12/12 [==============================] - 9s 756ms/step - loss: 0.2410 - accuracy: 0.9900 - val_loss: 0.6506 - val_accuracy: 0.8389 - lr: 6.2500e-05\n",
      "Epoch 45/100\n",
      "12/12 [==============================] - 9s 765ms/step - loss: 0.2399 - accuracy: 0.9899 - val_loss: 0.6490 - val_accuracy: 0.8399 - lr: 6.2500e-05\n",
      "Epoch 46/100\n",
      "12/12 [==============================] - 9s 768ms/step - loss: 0.2379 - accuracy: 0.9908 - val_loss: 0.6507 - val_accuracy: 0.8399 - lr: 6.2500e-05\n",
      "Epoch 47/100\n",
      "12/12 [==============================] - 9s 770ms/step - loss: 0.2382 - accuracy: 0.9908 - val_loss: 0.6491 - val_accuracy: 0.8399 - lr: 6.2500e-05\n",
      "Epoch 48/100\n",
      "12/12 [==============================] - 9s 740ms/step - loss: 0.2353 - accuracy: 0.9913 - val_loss: 0.6492 - val_accuracy: 0.8382 - lr: 6.2500e-05\n",
      "Epoch 49/100\n",
      "12/12 [==============================] - 8s 635ms/step - loss: 0.2367 - accuracy: 0.9901 - val_loss: 0.6508 - val_accuracy: 0.8385 - lr: 6.2500e-05\n",
      "Epoch 50/100\n",
      "12/12 [==============================] - 10s 798ms/step - loss: 0.2344 - accuracy: 0.9905 - val_loss: 0.6474 - val_accuracy: 0.8385 - lr: 3.1250e-05\n",
      "Epoch 51/100\n",
      "12/12 [==============================] - 9s 774ms/step - loss: 0.2337 - accuracy: 0.9910 - val_loss: 0.6463 - val_accuracy: 0.8392 - lr: 3.1250e-05\n",
      "Epoch 52/100\n",
      "12/12 [==============================] - 8s 647ms/step - loss: 0.2339 - accuracy: 0.9905 - val_loss: 0.6447 - val_accuracy: 0.8392 - lr: 3.1250e-05\n",
      "Epoch 53/100\n",
      "12/12 [==============================] - 9s 733ms/step - loss: 0.2315 - accuracy: 0.9911 - val_loss: 0.6510 - val_accuracy: 0.8378 - lr: 3.1250e-05\n",
      "Epoch 54/100\n",
      "12/12 [==============================] - 8s 650ms/step - loss: 0.2309 - accuracy: 0.9919 - val_loss: 0.6472 - val_accuracy: 0.8403 - lr: 3.1250e-05\n",
      "Epoch 55/100\n",
      "12/12 [==============================] - 9s 744ms/step - loss: 0.2309 - accuracy: 0.9913 - val_loss: 0.6450 - val_accuracy: 0.8399 - lr: 3.1250e-05\n",
      "Epoch 56/100\n",
      "12/12 [==============================] - 9s 736ms/step - loss: 0.2309 - accuracy: 0.9911 - val_loss: 0.6458 - val_accuracy: 0.8368 - lr: 3.1250e-05\n",
      "Epoch 57/100\n",
      "12/12 [==============================] - 10s 808ms/step - loss: 0.2301 - accuracy: 0.9906 - val_loss: 0.6459 - val_accuracy: 0.8382 - lr: 3.1250e-05\n"
     ]
    }
   ],
   "source": [
    "history = model.fit(X_train_, y_train_encoded, validation_data=(X_val_, y_val_encoded), epochs=100, batch_size=1024, callbacks=[early_stopping, lr_scheduler])"
   ]
  },
  {
   "cell_type": "code",
   "execution_count": 351,
   "metadata": {},
   "outputs": [
    {
     "data": {
      "image/png": "[encoded data removed]",
      "text/plain": [
       "<Figure size 640x480 with 1 Axes>"
      ]
     },
     "metadata": {},
     "output_type": "display_data"
    }
   ],
   "source": [
    "import matplotlib.pyplot as plt\n",
    "\n",
    "loss, val_loss = history.history['loss'], history.history['val_loss']\n",
    "\n",
    "plt.plot(loss, label='loss')\n",
    "plt.plot(val_loss, label='val_loss')\n",
    "plt.legend()\n",
    "plt.show()"
   ]
  },
  {
   "cell_type": "code",
   "execution_count": 352,
   "metadata": {},
   "outputs": [
    {
     "name": "stdout",
     "output_type": "stream",
     "text": [
      "113/113 [==============================] - 2s 13ms/step\n",
      "              precision    recall  f1-score   support\n",
      "\n",
      "           0       0.65      0.66      0.66       487\n",
      "           1       0.64      0.63      0.64       432\n",
      "           2       0.71      0.80      0.75      1211\n",
      "           3       0.54      0.52      0.53       293\n",
      "           4       0.80      0.70      0.75      1049\n",
      "           5       0.63      0.45      0.52       128\n",
      "\n",
      "    accuracy                           0.70      3600\n",
      "   macro avg       0.66      0.63      0.64      3600\n",
      "weighted avg       0.70      0.70      0.70      3600\n",
      "\n",
      "[[323  24  67  22  50   1]\n",
      " [ 38 274  60   4  44  12]\n",
      " [ 41  50 970  70  63  17]\n",
      " [ 20  12  90 153  18   0]\n",
      " [ 67  46 166  29 737   4]\n",
      " [  9  23  20   7  12  57]]\n",
      "0.6983333333333334\n"
     ]
    }
   ],
   "source": [
    "from sklearn.metrics import confusion_matrix\n",
    "from sklearn.metrics import accuracy_score\n",
    "from sklearn.metrics import classification_report\n",
    "\n",
    "predictions = model.predict(X_test_std)\n",
    "prediction_labels = predictions.argmax(axis=1)\n",
    "print(classification_report(y_test_, prediction_labels))\n",
    "print(confusion_matrix(y_test_, prediction_labels))\n",
    "print(accuracy_score(y_test_, prediction_labels))"
   ]
  },
  {
   "cell_type": "code",
   "execution_count": 214,
   "metadata": {},
   "outputs": [
    {
     "name": "stdout",
     "output_type": "stream",
     "text": [
      "0 2159\n",
      "1 1937\n",
      "2 5362\n",
      "3 1304\n",
      "4 4666\n",
      "5 572\n"
     ]
    }
   ],
   "source": [
    "unique_value, counts = np.unique(y_train, return_counts=True)\n",
    "for element, count in zip(unique_value, counts):\n",
    "    print(element, count)"
   ]
  },
  {
   "cell_type": "code",
   "execution_count": 216,
   "metadata": {},
   "outputs": [
    {
     "name": "stdout",
     "output_type": "stream",
     "text": [
      "0 275\n",
      "1 224\n",
      "2 695\n",
      "3 159\n",
      "4 581\n",
      "5 66\n"
     ]
    }
   ],
   "source": [
    "unique_value, counts = np.unique(y_test, return_counts=True)\n",
    "for element, count in zip(unique_value, counts):\n",
    "    print(element, count)"
   ]
  },
  {
   "attachments": {},
   "cell_type": "markdown",
   "metadata": {},
   "source": [
    "I have tried several dozens of times on this model: increasing and reducing the layers, increasing and reducing the neurons in each layer, tuning the regularization parameter, changing regularization, tuning the learning rate, batch size, *etc*.\n",
    "\n",
    "I also tried to experiment on the different input, a.k.a. using different representation of original text for model training, such as matrix obtained from spacy.load('en_core_web_md')(text). And finally I got this result with the tf_idf matrix representation for training the model while the scale of the model is large with nearly 34 million."
   ]
  },
  {
   "cell_type": "code",
   "execution_count": 304,
   "metadata": {},
   "outputs": [
    {
     "name": "stderr",
     "output_type": "stream",
     "text": [
      "WARNING:absl:Found untraced functions such as _update_step_xla while saving (showing 1 of 1). These functions will not be directly callable after loading.\n"
     ]
    },
    {
     "name": "stdout",
     "output_type": "stream",
     "text": [
      "INFO:tensorflow:Assets written to: FNN_model/assets\n"
     ]
    },
    {
     "name": "stderr",
     "output_type": "stream",
     "text": [
      "INFO:tensorflow:Assets written to: FNN_model/assets\n"
     ]
    }
   ],
   "source": [
    "model.save('FNN_model')"
   ]
  },
  {
   "attachments": {},
   "cell_type": "markdown",
   "metadata": {},
   "source": [
    "# RNN, LSTM and GRU"
   ]
  },
  {
   "cell_type": "code",
   "execution_count": 11,
   "metadata": {},
   "outputs": [
    {
     "name": "stdout",
     "output_type": "stream",
     "text": [
      "Model: \"sequential_2\"\n",
      "_________________________________________________________________\n",
      " Layer (type)                Output Shape              Param #   \n",
      "=================================================================\n",
      " embedding_2 (Embedding)     (None, 1000, 100)         1518600   \n",
      "                                                                 \n",
      " lstm_2 (LSTM)               (None, 1024)              4608000   \n",
      "                                                                 \n",
      " dense_10 (Dense)            (None, 512)               524800    \n",
      "                                                                 \n",
      " dense_11 (Dense)            (None, 256)               131328    \n",
      "                                                                 \n",
      " dense_12 (Dense)            (None, 128)               32896     \n",
      "                                                                 \n",
      " dense_13 (Dense)            (None, 64)                8256      \n",
      "                                                                 \n",
      " dense_14 (Dense)            (None, 6)                 390       \n",
      "                                                                 \n",
      "=================================================================\n",
      "Total params: 6,824,270\n",
      "Trainable params: 6,824,270\n",
      "Non-trainable params: 0\n",
      "_________________________________________________________________\n"
     ]
    }
   ],
   "source": [
    "import pandas as pd\n",
    "from sklearn.model_selection import train_test_split\n",
    "from sklearn.feature_extraction.text import TfidfVectorizer\n",
    "from tensorflow.keras.models import Sequential\n",
    "from tensorflow.keras.layers import LSTM, Dense, Embedding\n",
    "from tensorflow.keras.preprocessing.sequence import pad_sequences\n",
    "from tensorflow.keras.utils import to_categorical\n",
    "from sklearn.preprocessing import LabelEncoder\n",
    "from tensorflow.keras.callbacks import LearningRateScheduler, EarlyStopping, ReduceLROnPlateau\n",
    "import math\n",
    "import tensorflow as tf\n",
    "\n",
    "# 数据处理\n",
    "tweets_train = df_train['tweet']\n",
    "tweet_test = df_test['tweet']\n",
    "labels_train = df_train['sentiment']\n",
    "labels_test = df_test['sentiment']\n",
    "\n",
    "verctorizer = TfidfVectorizer()\n",
    "X_train_tfidf = verctorizer.fit_transform(tweets_train)\n",
    "X_test_tfidf = verctorizer.transform(tweet_test)\n",
    "\n",
    "max_sequence_length = 1000\n",
    "X_train_padded = pad_sequences(X_train_tfidf.toarray(), maxlen=max_sequence_length)\n",
    "X_test_padded = pad_sequences(X_test_tfidf.toarray(), maxlen=max_sequence_length)\n",
    "\n",
    "le = LabelEncoder()\n",
    "y_train_padded = le.fit_transform(labels_train)\n",
    "y_test_padded = le.transform(labels_test)\n",
    "\n",
    "# Convert labels to categorical if needed\n",
    "# y_train_padded = to_categorical(y_train_padded)\n",
    "# y_test_padded = to_categorical(y_test_padded)\n",
    "\n",
    "num_classes = len(le.classes_)\n",
    "vocab_size = len(verctorizer.vocabulary_)\n",
    "embedding_dim = 100\n",
    "\n",
    "# 设置学习率与early_stopping\n",
    "def step_decay(epoch):\n",
    "    initial_lrate = 0.01\n",
    "    drop = 0.5\n",
    "    epochs_drop = 10.0\n",
    "    lrate = initial_lrate * math.pow(drop, math.floor((1 + epoch) / epochs_drop))\n",
    "    return lrate\n",
    "\n",
    "lr_scheduler = LearningRateScheduler(step_decay)\n",
    "early_stopping = EarlyStopping(monitor='val_loss', restore_best_weights=True, patience=5)\n",
    "\n",
    "# strategy = tf.distribute.OneDeviceStrategy(device='/gpu:0')\n",
    "# 搭建模型\n",
    "# with strategy.scope():\n",
    "model = Sequential()\n",
    "model.add(Embedding(vocab_size, embedding_dim, input_length=max_sequence_length))\n",
    "model.add(LSTM(1024, recurrent_dropout=0.2))\n",
    "model.add(Dense(512, activation='relu'))\n",
    "model.add(Dense(256, activation='relu'))\n",
    "model.add(Dense(128, activation='relu'))\n",
    "model.add(Dense(64, activation='relu'))\n",
    "model.add(Dense(num_classes, activation='softmax'))\n",
    "model.compile(optimizer='adam', loss='sparse_categorical_crossentropy', metrics=['accuracy'])\n",
    "model.summary()"
   ]
  },
  {
   "cell_type": "code",
   "execution_count": null,
   "metadata": {},
   "outputs": [],
   "source": [
    "# 训练模型\n",
    "history = model.fit(X_train_padded, y_train_padded, batch_size=512, epochs=100,\n",
    "                    validation_data=(X_test_padded, y_test_padded),\n",
    "                    callbacks=[early_stopping, lr_scheduler])"
   ]
  },
  {
   "cell_type": "code",
   "execution_count": null,
   "metadata": {},
   "outputs": [],
   "source": [
    "loss, val_loos = history['loss'], history['val_loss']\n",
    "\n",
    "plt.plot(loss, label='Training loss')\n",
    "plt.plot(val_loos, label='Validation loss')\n",
    "plt.legend()\n",
    "plt.show()"
   ]
  },
  {
   "attachments": {},
   "cell_type": "markdown",
   "metadata": {},
   "source": [
    "# Transformer based Pretrained model"
   ]
  },
  {
   "cell_type": "code",
   "execution_count": 3,
   "metadata": {},
   "outputs": [
    {
     "data": {
      "text/html": [
       "<div>\n",
       "<style scoped>\n",
       "    .dataframe tbody tr th:only-of-type {\n",
       "        vertical-align: middle;\n",
       "    }\n",
       "\n",
       "    .dataframe tbody tr th {\n",
       "        vertical-align: top;\n",
       "    }\n",
       "\n",
       "    .dataframe thead th {\n",
       "        text-align: right;\n",
       "    }\n",
       "</style>\n",
       "<table border=\"1\" class=\"dataframe\">\n",
       "  <thead>\n",
       "    <tr style=\"text-align: right;\">\n",
       "      <th></th>\n",
       "      <th>tweet</th>\n",
       "      <th>sentiment</th>\n",
       "    </tr>\n",
       "  </thead>\n",
       "  <tbody>\n",
       "    <tr>\n",
       "      <th>0</th>\n",
       "      <td>i didnt feel humiliated</td>\n",
       "      <td>sadness</td>\n",
       "    </tr>\n",
       "    <tr>\n",
       "      <th>1</th>\n",
       "      <td>i can go from feeling so hopeless to so damned...</td>\n",
       "      <td>sadness</td>\n",
       "    </tr>\n",
       "    <tr>\n",
       "      <th>2</th>\n",
       "      <td>im grabbing a minute to post i feel greedy wrong</td>\n",
       "      <td>anger</td>\n",
       "    </tr>\n",
       "    <tr>\n",
       "      <th>3</th>\n",
       "      <td>i am ever feeling nostalgic about the fireplac...</td>\n",
       "      <td>love</td>\n",
       "    </tr>\n",
       "    <tr>\n",
       "      <th>4</th>\n",
       "      <td>i am feeling grouchy</td>\n",
       "      <td>anger</td>\n",
       "    </tr>\n",
       "  </tbody>\n",
       "</table>\n",
       "</div>"
      ],
      "text/plain": [
       "                                               tweet sentiment\n",
       "0                            i didnt feel humiliated   sadness\n",
       "1  i can go from feeling so hopeless to so damned...   sadness\n",
       "2   im grabbing a minute to post i feel greedy wrong     anger\n",
       "3  i am ever feeling nostalgic about the fireplac...      love\n",
       "4                               i am feeling grouchy     anger"
      ]
     },
     "execution_count": 3,
     "metadata": {},
     "output_type": "execute_result"
    }
   ],
   "source": [
    "df_train = pd.read_csv('./train.txt', header=None, delimiter=';')\n",
    "df_test = pd.read_csv('./test.txt', header=None, delimiter=';')\n",
    "df_train = df_train.rename(columns={0: 'tweet', 1: 'sentiment'})\n",
    "df_test = df_test.rename(columns={0: 'tweet', 1: 'sentiment'})\n",
    "df_train.head()"
   ]
  },
  {
   "attachments": {},
   "cell_type": "markdown",
   "metadata": {},
   "source": [
    "- Pytorch"
   ]
  },
  {
   "cell_type": "code",
   "execution_count": 15,
   "metadata": {},
   "outputs": [
    {
     "name": "stderr",
     "output_type": "stream",
     "text": [
      "Some weights of the model checkpoint at bert-base-uncased were not used when initializing BertModel: ['cls.seq_relationship.weight', 'cls.predictions.transform.LayerNorm.weight', 'cls.predictions.transform.LayerNorm.bias', 'cls.predictions.bias', 'cls.predictions.transform.dense.weight', 'cls.predictions.transform.dense.bias', 'cls.seq_relationship.bias']\n",
      "- This IS expected if you are initializing BertModel from the checkpoint of a model trained on another task or with another architecture (e.g. initializing a BertForSequenceClassification model from a BertForPreTraining model).\n",
      "- This IS NOT expected if you are initializing BertModel from the checkpoint of a model that you expect to be exactly identical (initializing a BertForSequenceClassification model from a BertForSequenceClassification model).\n"
     ]
    }
   ],
   "source": [
    "from transformers import AutoTokenizer, AutoModel, BertTokenizer\n",
    "from sklearn.preprocessing import LabelEncoder\n",
    "from keras.utils import to_categorical\n",
    "import torch\n",
    "import torch.nn as nn\n",
    "\n",
    "tokenizer = BertTokenizer.from_pretrained('bert-base-uncased')\n",
    "encoded_input_train = tokenizer.batch_encode_plus(texts_train, padding=True, truncation=True, return_tensors='pt')\n",
    "input_ids_train = encoded_input_train['input_ids']\n",
    "attention_masks_train = encoded_input_train['attention_mask']\n",
    "\n",
    "labels_train = df_train['sentiment']\n",
    "le = LabelEncoder()\n",
    "labels_train =le.fit_transform(labels_train)\n",
    "labels_train = to_categorical(labels_train)\n",
    "labels_train = torch.tensor(labels_train)\n",
    "\n",
    "\n",
    "transformer_model = AutoModel.from_pretrained('bert-base-uncased')\n",
    "device = torch.device('cuda' if torch.cuda.is_available() else 'cpu')\n",
    "transformer_model.to(device)\n",
    "optimizer = torch.optim.Adam(transformer_model.parameters(), lr=1e-5)\n",
    "loss_fn = torch.nn.CrossEntropyLoss()\n",
    "\n",
    "transformer_model.train()\n",
    "input_ids_train = input_ids_train.to(device)\n",
    "attention_masks_train = attention_masks_train.to(device)\n",
    "labels_train = labels_train.to(device)"
   ]
  },
  {
   "cell_type": "code",
   "execution_count": null,
   "metadata": {},
   "outputs": [],
   "source": []
  },
  {
   "cell_type": "code",
   "execution_count": 9,
   "metadata": {},
   "outputs": [
    {
     "name": "stderr",
     "output_type": "stream",
     "text": [
      "Some weights of the model checkpoint at bert-base-uncased were not used when initializing BertModel: ['cls.predictions.transform.dense.weight', 'cls.predictions.bias', 'cls.predictions.transform.dense.bias', 'cls.predictions.transform.LayerNorm.weight', 'cls.seq_relationship.weight', 'cls.predictions.transform.LayerNorm.bias', 'cls.seq_relationship.bias']\n",
      "- This IS expected if you are initializing BertModel from the checkpoint of a model trained on another task or with another architecture (e.g. initializing a BertForSequenceClassification model from a BertForPreTraining model).\n",
      "- This IS NOT expected if you are initializing BertModel from the checkpoint of a model that you expect to be exactly identical (initializing a BertForSequenceClassification model from a BertForSequenceClassification model).\n"
     ]
    },
    {
     "data": {
      "text/plain": [
       "Parameter containing:\n",
       "tensor([[ 0.0020, -0.0545, -0.0427,  ..., -0.0806, -0.0876,  0.0259],\n",
       "        [-0.0798, -0.0748,  0.0032,  ...,  0.0238,  0.0873, -0.0114],\n",
       "        [-0.0061, -0.0134,  0.0178,  ...,  0.0522,  0.0160, -0.0167],\n",
       "        [ 0.0459, -0.0031,  0.0880,  ...,  0.0709, -0.0803,  0.0415],\n",
       "        [ 0.0195, -0.0304, -0.0010,  ...,  0.0190, -0.0422,  0.0654],\n",
       "        [ 0.0330,  0.0297, -0.0718,  ...,  0.0068,  0.0588, -0.0725]],\n",
       "       device='cuda:0', requires_grad=True)"
      ]
     },
     "execution_count": 9,
     "metadata": {},
     "output_type": "execute_result"
    }
   ],
   "source": [
    "from transformers import AutoTokenizer, AutoModel\n",
    "from sklearn.preprocessing import LabelEncoder\n",
    "from keras.utils import to_categorical\n",
    "import torch\n",
    "import torch.nn as nn\n",
    "from torch.utils.data import DataLoader, TensorDataset\n",
    "\n",
    "tokenizer = AutoTokenizer.from_pretrained('bert-base-uncased')\n",
    "transformer_model = AutoModel.from_pretrained('bert-base-uncased')\n",
    "device = torch.device('cuda' if torch.cuda.is_available() else 'cpu')\n",
    "transformer_model.to(device)\n",
    "optimizer = torch.optim.Adam(transformer_model.parameters(), lr=1e-5)\n",
    "loss_fn = torch.nn.CrossEntropyLoss()\n",
    "\n",
    "texts_train = df_train['tweet']\n",
    "labels_train = df_train['sentiment']\n",
    "le = LabelEncoder()\n",
    "labels_train = le.fit_transform(labels_train)\n",
    "labels_train = to_categorical(labels_train)\n",
    "labels_train = torch.tensor(labels_train).to(device)\n",
    "\n",
    "# Tokenize texts_train\n",
    "encoded_inputs = tokenizer(texts_train.tolist(), padding=True, truncation=True, return_tensors='pt')\n",
    "input_ids_train = encoded_inputs['input_ids'].to(device)\n",
    "attention_masks_train = encoded_inputs['attention_mask'].to(device)\n",
    "\n",
    "train_dataset = TensorDataset(input_ids_train, attention_masks_train, labels_train)\n",
    "train_dataloader = DataLoader(train_dataset, batch_size=16, shuffle=True)\n",
    "\n",
    "transformer_model.train()\n",
    "\n",
    "linear_layer = nn.Linear(transformer_model.config.hidden_size, le.classes_.shape[0]).to(device)\n",
    "nn.init.xavier_uniform_(linear_layer.weight)\n"
   ]
  },
  {
   "cell_type": "code",
   "execution_count": 10,
   "metadata": {},
   "outputs": [
    {
     "name": "stdout",
     "output_type": "stream",
     "text": [
      "Epoch 1 - Average Loss: 0.3431227789670229\n",
      "Epoch 2 - Average Loss: 0.15944166499562562\n",
      "Epoch 3 - Average Loss: 0.07959097695350648\n",
      "Epoch 4 - Average Loss: 0.05580993509478867\n",
      "Epoch 5 - Average Loss: 0.04338084980705753\n",
      "Epoch 6 - Average Loss: 0.03838919259759132\n",
      "Epoch 7 - Average Loss: 0.03426969006942818\n",
      "Epoch 8 - Average Loss: 0.030790360981074627\n",
      "Epoch 9 - Average Loss: 0.027876388156437316\n",
      "Epoch 10 - Average Loss: 0.02630211615844746\n",
      "Epoch 11 - Average Loss: 0.02624506679715705\n",
      "Epoch 12 - Average Loss: 0.025121578735153888\n",
      "Epoch 13 - Average Loss: 0.023111631666950416\n",
      "Epoch 14 - Average Loss: 0.0223442898268695\n",
      "Epoch 15 - Average Loss: 0.02088869621325284\n",
      "Epoch 16 - Average Loss: 0.02109514506465348\n",
      "Epoch 17 - Average Loss: 0.018455659539700717\n",
      "Epoch 18 - Average Loss: 0.017144603587701566\n",
      "Epoch 19 - Average Loss: 0.017530029333669518\n",
      "Epoch 20 - Average Loss: 0.017526032913141535\n",
      "Epoch 21 - Average Loss: 0.016154191977955635\n",
      "Epoch 22 - Average Loss: 0.015543671893923602\n",
      "Epoch 23 - Average Loss: 0.014400973078576499\n",
      "Epoch 24 - Average Loss: 0.015483351661096094\n",
      "Epoch 25 - Average Loss: 0.01510167918575462\n",
      "Epoch 26 - Average Loss: 0.014666177272785717\n",
      "Epoch 27 - Average Loss: 0.013452183268545923\n",
      "Epoch 28 - Average Loss: 0.014083862124072767\n",
      "Epoch 29 - Average Loss: 0.011417762398523337\n",
      "Epoch 30 - Average Loss: 0.011542539221383777\n"
     ]
    }
   ],
   "source": [
    "accumulation_steps = 4  # Accumulate gradients over 4 batches\n",
    "total_losses = []\n",
    "for epoch in range(30):\n",
    "    total_loss = 0\n",
    "    for batch_idx, (batch_input_ids, batch_attention_masks, batch_labels) in enumerate(train_dataloader):\n",
    "        optimizer.zero_grad()\n",
    "\n",
    "        batch_input_ids = batch_input_ids.to(device)\n",
    "        batch_attention_masks = batch_attention_masks.to(device)\n",
    "        batch_labels = batch_labels.to(device)\n",
    "\n",
    "        outputs = transformer_model(input_ids=batch_input_ids, attention_mask=batch_attention_masks)\n",
    "        pooled_output = outputs.pooler_output\n",
    "        logits = linear_layer(pooled_output)\n",
    "\n",
    "        loss = loss_fn(logits, torch.argmax(batch_labels, dim=1))\n",
    "        loss = loss / accumulation_steps  # Scale the loss\n",
    "\n",
    "        loss.backward()\n",
    "\n",
    "        if (batch_idx + 1) % accumulation_steps == 0:\n",
    "            optimizer.step()\n",
    "            optimizer.zero_grad()\n",
    "\n",
    "        total_loss += loss.item()\n",
    "    total_losses.append(total_loss / len(train_dataloader))\n",
    "    print(f\"Epoch {epoch + 1} - Average Loss: {total_loss / len(train_dataloader)}\")"
   ]
  },
  {
   "cell_type": "code",
   "execution_count": 18,
   "metadata": {},
   "outputs": [],
   "source": [
    "from sklearn.metrics import accuracy_score\n",
    "from sklearn.metrics import f1_score\n",
    "from sklearn.metrics import classification_report\n",
    "\n",
    "# Tokenize the input test text and convert it to input tensors\n",
    "texts_test = df_test['tweet']\n",
    "labels_test = df_test['sentiment']\n",
    "le = LabelEncoder()\n",
    "labels_test = le.fit_transform(labels_test)\n",
    "labels_test = to_categorical(labels_test)\n",
    "labels_test = torch.tensor(labels_test).to(device)\n",
    "\n",
    "# Tokenize texts_test\n",
    "encoded_inputs = tokenizer(texts_test.tolist(), padding=True, truncation=True, return_tensors='pt')\n",
    "input_ids = encoded_inputs['input_ids'].to(device)\n",
    "attention_masks = encoded_inputs['attention_mask'].to(device)\n",
    "\n",
    "# Inference\n",
    "with torch.no_grad():\n",
    "    outputs = transformer_model(input_ids, attention_masks)\n",
    "    last_hidden_states = outputs.last_hidden_state\n",
    "    logits = linear_layer(last_hidden_states[:, 0, :])\n",
    "    probabilities = torch.softmax(logits, dim=1)\n",
    "    _, predicted_classes = torch.max(probabilities, dim=1)"
   ]
  },
  {
   "cell_type": "code",
   "execution_count": 19,
   "metadata": {},
   "outputs": [
    {
     "name": "stdout",
     "output_type": "stream",
     "text": [
      "Test Accuracy: 0.0800\n",
      "Test F1-Score: 0.0870\n",
      "Classification Report:\n",
      "              precision    recall  f1-score   support\n",
      "\n",
      "           0       0.01      0.00      0.00       275\n",
      "           1       0.02      0.06      0.03       224\n",
      "           2       0.64      0.08      0.15       695\n",
      "           3       0.23      0.50      0.32       159\n",
      "           4       0.11      0.01      0.02       581\n",
      "           5       0.00      0.02      0.00        66\n",
      "\n",
      "    accuracy                           0.08      2000\n",
      "   macro avg       0.17      0.11      0.09      2000\n",
      "weighted avg       0.28      0.08      0.09      2000\n",
      "\n"
     ]
    }
   ],
   "source": [
    "predicted_classes = predicted_classes.cpu().numpy()\n",
    "labels_test = torch.argmax(labels_test, dim=1).cpu().numpy()\n",
    "\n",
    "accuracy = accuracy_score(labels_test, predicted_classes)\n",
    "f1 = f1_score(labels_test, predicted_classes, average='weighted')\n",
    "classification_reports = classification_report(labels_test, predicted_classes)\n",
    "\n",
    "print(f\"Test Accuracy: {accuracy:.4f}\")\n",
    "print(f\"Test F1-Score: {f1:.4f}\")\n",
    "print(\"Classification Report:\")\n",
    "print(classification_reports)"
   ]
  },
  {
   "cell_type": "code",
   "execution_count": 21,
   "metadata": {},
   "outputs": [
    {
     "data": {
      "text/plain": [
       "('./models/Bert/BertBasedModelTokenizer\\\\tokenizer_config.json',\n",
       " './models/Bert/BertBasedModelTokenizer\\\\special_tokens_map.json',\n",
       " './models/Bert/BertBasedModelTokenizer\\\\vocab.txt',\n",
       " './models/Bert/BertBasedModelTokenizer\\\\added_tokens.json',\n",
       " './models/Bert/BertBasedModelTokenizer\\\\tokenizer.json')"
      ]
     },
     "execution_count": 21,
     "metadata": {},
     "output_type": "execute_result"
    }
   ],
   "source": [
    "# Persistance a transfer learning pretrained model in PyTorch\n",
    "# Save the model state dict\n",
    "torch.save(transformer_model.state_dict(), './models/Bert/BertBasedModel.pth')\n",
    "# Save the tokenizer\n",
    "tokenizer.save_pretrained('./models/Bert/BertBasedModelTokenizer')"
   ]
  },
  {
   "cell_type": "code",
   "execution_count": null,
   "metadata": {},
   "outputs": [],
   "source": [
    "# Load transfer learning pretrained model in PyTorch\n",
    "\n",
    "from transformers import BertTokenizer\n",
    "model =AutoModel.from_pretrained('bert-base-uncased')\n",
    "\n",
    "# Load the model weights\n",
    "model.load_state_dict(torch.load('./models/BertBasedModel.pth'))\n",
    "\n",
    "# Load the tokenizer\n",
    "tokenizer = BertTokenizer.from_pretrained('./models/BertBasedModelTokenizer')\n"
   ]
  },
  {
   "cell_type": "code",
   "execution_count": null,
   "metadata": {},
   "outputs": [],
   "source": []
  },
  {
   "cell_type": "code",
   "execution_count": null,
   "metadata": {},
   "outputs": [],
   "source": []
  },
  {
   "attachments": {},
   "cell_type": "markdown",
   "metadata": {},
   "source": [
    "### Define my transformer model"
   ]
  },
  {
   "cell_type": "code",
   "execution_count": 24,
   "metadata": {},
   "outputs": [],
   "source": [
    "import torch\n",
    "import torch.nn as nn\n",
    "import torch.optim as optim\n",
    "from torch.utils.data import DataLoader, TensorDataset\n",
    "\n",
    "class TransformerClassifier(nn.Module):\n",
    "    def __init__(self, vocab_size, embedding_dim, hidden_dim, num_classes, num_layers, num_heads, dropout):\n",
    "        super(TransformerClassifier, self).__init__()\n",
    "        \n",
    "        self.embedding = nn.Embedding(vocab_size, embedding_dim)\n",
    "        self.transformer_encoder = nn.TransformerEncoder(\n",
    "            nn.TransformerEncoderLayer(embedding_dim, num_heads, dim_feedforward=hidden_dim, dropout=dropout),\n",
    "            num_layers=num_layers\n",
    "        )\n",
    "        self.fc = nn.Linear(embedding_dim, num_classes)\n",
    "        \n",
    "    def forward(self, input_ids, attention_mask):\n",
    "        embedded = self.embedding(input_ids)\n",
    "        encoded = self.transformer_encoder(embedded.transpose(0, 1), src_key_padding_mask=attention_mask)\n",
    "        pooled = encoded.mean(dim=0)\n",
    "        logits = self.fc(pooled)\n",
    "        return logits\n"
   ]
  },
  {
   "cell_type": "code",
   "execution_count": 26,
   "metadata": {},
   "outputs": [
    {
     "ename": "AssertionError",
     "evalue": "only bool and floating types of src_key_padding_mask are supported",
     "output_type": "error",
     "traceback": [
      "\u001b[1;31m---------------------------------------------------------------------------\u001b[0m",
      "\u001b[1;31mAssertionError\u001b[0m                            Traceback (most recent call last)",
      "Cell \u001b[1;32mIn[26], line 40\u001b[0m\n\u001b[0;32m     37\u001b[0m optimizer\u001b[39m.\u001b[39mzero_grad()\n\u001b[0;32m     39\u001b[0m \u001b[39m# Forward pass\u001b[39;00m\n\u001b[1;32m---> 40\u001b[0m logits \u001b[39m=\u001b[39m model(batch_input_ids, batch_attention_masks)\n\u001b[0;32m     41\u001b[0m loss \u001b[39m=\u001b[39m loss_fn(logits, torch\u001b[39m.\u001b[39margmax(batch_labels, dim\u001b[39m=\u001b[39m\u001b[39m1\u001b[39m))\n\u001b[0;32m     43\u001b[0m \u001b[39m# Backward pass and optimization\u001b[39;00m\n",
      "File \u001b[1;32me:\\Anaconda3\\envs\\pytorch\\Lib\\site-packages\\torch\\nn\\modules\\module.py:1501\u001b[0m, in \u001b[0;36mModule._call_impl\u001b[1;34m(self, *args, **kwargs)\u001b[0m\n\u001b[0;32m   1496\u001b[0m \u001b[39m# If we don't have any hooks, we want to skip the rest of the logic in\u001b[39;00m\n\u001b[0;32m   1497\u001b[0m \u001b[39m# this function, and just call forward.\u001b[39;00m\n\u001b[0;32m   1498\u001b[0m \u001b[39mif\u001b[39;00m \u001b[39mnot\u001b[39;00m (\u001b[39mself\u001b[39m\u001b[39m.\u001b[39m_backward_hooks \u001b[39mor\u001b[39;00m \u001b[39mself\u001b[39m\u001b[39m.\u001b[39m_backward_pre_hooks \u001b[39mor\u001b[39;00m \u001b[39mself\u001b[39m\u001b[39m.\u001b[39m_forward_hooks \u001b[39mor\u001b[39;00m \u001b[39mself\u001b[39m\u001b[39m.\u001b[39m_forward_pre_hooks\n\u001b[0;32m   1499\u001b[0m         \u001b[39mor\u001b[39;00m _global_backward_pre_hooks \u001b[39mor\u001b[39;00m _global_backward_hooks\n\u001b[0;32m   1500\u001b[0m         \u001b[39mor\u001b[39;00m _global_forward_hooks \u001b[39mor\u001b[39;00m _global_forward_pre_hooks):\n\u001b[1;32m-> 1501\u001b[0m     \u001b[39mreturn\u001b[39;00m forward_call(\u001b[39m*\u001b[39;49margs, \u001b[39m*\u001b[39;49m\u001b[39m*\u001b[39;49mkwargs)\n\u001b[0;32m   1502\u001b[0m \u001b[39m# Do not call functions when jit is used\u001b[39;00m\n\u001b[0;32m   1503\u001b[0m full_backward_hooks, non_full_backward_hooks \u001b[39m=\u001b[39m [], []\n",
      "Cell \u001b[1;32mIn[24], line 19\u001b[0m, in \u001b[0;36mTransformerClassifier.forward\u001b[1;34m(self, input_ids, attention_mask)\u001b[0m\n\u001b[0;32m     17\u001b[0m \u001b[39mdef\u001b[39;00m \u001b[39mforward\u001b[39m(\u001b[39mself\u001b[39m, input_ids, attention_mask):\n\u001b[0;32m     18\u001b[0m     embedded \u001b[39m=\u001b[39m \u001b[39mself\u001b[39m\u001b[39m.\u001b[39membedding(input_ids)\n\u001b[1;32m---> 19\u001b[0m     encoded \u001b[39m=\u001b[39m \u001b[39mself\u001b[39;49m\u001b[39m.\u001b[39;49mtransformer_encoder(embedded\u001b[39m.\u001b[39;49mtranspose(\u001b[39m0\u001b[39;49m, \u001b[39m1\u001b[39;49m), src_key_padding_mask\u001b[39m=\u001b[39;49mattention_mask)\n\u001b[0;32m     20\u001b[0m     pooled \u001b[39m=\u001b[39m encoded\u001b[39m.\u001b[39mmean(dim\u001b[39m=\u001b[39m\u001b[39m0\u001b[39m)\n\u001b[0;32m     21\u001b[0m     logits \u001b[39m=\u001b[39m \u001b[39mself\u001b[39m\u001b[39m.\u001b[39mfc(pooled)\n",
      "File \u001b[1;32me:\\Anaconda3\\envs\\pytorch\\Lib\\site-packages\\torch\\nn\\modules\\module.py:1501\u001b[0m, in \u001b[0;36mModule._call_impl\u001b[1;34m(self, *args, **kwargs)\u001b[0m\n\u001b[0;32m   1496\u001b[0m \u001b[39m# If we don't have any hooks, we want to skip the rest of the logic in\u001b[39;00m\n\u001b[0;32m   1497\u001b[0m \u001b[39m# this function, and just call forward.\u001b[39;00m\n\u001b[0;32m   1498\u001b[0m \u001b[39mif\u001b[39;00m \u001b[39mnot\u001b[39;00m (\u001b[39mself\u001b[39m\u001b[39m.\u001b[39m_backward_hooks \u001b[39mor\u001b[39;00m \u001b[39mself\u001b[39m\u001b[39m.\u001b[39m_backward_pre_hooks \u001b[39mor\u001b[39;00m \u001b[39mself\u001b[39m\u001b[39m.\u001b[39m_forward_hooks \u001b[39mor\u001b[39;00m \u001b[39mself\u001b[39m\u001b[39m.\u001b[39m_forward_pre_hooks\n\u001b[0;32m   1499\u001b[0m         \u001b[39mor\u001b[39;00m _global_backward_pre_hooks \u001b[39mor\u001b[39;00m _global_backward_hooks\n\u001b[0;32m   1500\u001b[0m         \u001b[39mor\u001b[39;00m _global_forward_hooks \u001b[39mor\u001b[39;00m _global_forward_pre_hooks):\n\u001b[1;32m-> 1501\u001b[0m     \u001b[39mreturn\u001b[39;00m forward_call(\u001b[39m*\u001b[39;49margs, \u001b[39m*\u001b[39;49m\u001b[39m*\u001b[39;49mkwargs)\n\u001b[0;32m   1502\u001b[0m \u001b[39m# Do not call functions when jit is used\u001b[39;00m\n\u001b[0;32m   1503\u001b[0m full_backward_hooks, non_full_backward_hooks \u001b[39m=\u001b[39m [], []\n",
      "File \u001b[1;32me:\\Anaconda3\\envs\\pytorch\\Lib\\site-packages\\torch\\nn\\modules\\transformer.py:214\u001b[0m, in \u001b[0;36mTransformerEncoder.forward\u001b[1;34m(self, src, mask, src_key_padding_mask, is_causal)\u001b[0m\n\u001b[0;32m    195\u001b[0m \u001b[39mdef\u001b[39;00m \u001b[39mforward\u001b[39m(\n\u001b[0;32m    196\u001b[0m         \u001b[39mself\u001b[39m,\n\u001b[0;32m    197\u001b[0m         src: Tensor,\n\u001b[0;32m    198\u001b[0m         mask: Optional[Tensor] \u001b[39m=\u001b[39m \u001b[39mNone\u001b[39;00m,\n\u001b[0;32m    199\u001b[0m         src_key_padding_mask: Optional[Tensor] \u001b[39m=\u001b[39m \u001b[39mNone\u001b[39;00m,\n\u001b[0;32m    200\u001b[0m         is_causal: Optional[\u001b[39mbool\u001b[39m] \u001b[39m=\u001b[39m \u001b[39mNone\u001b[39;00m) \u001b[39m-\u001b[39m\u001b[39m>\u001b[39m Tensor:\n\u001b[0;32m    201\u001b[0m \u001b[39m    \u001b[39m\u001b[39mr\u001b[39m\u001b[39m\"\"\"Pass the input through the encoder layers in turn.\u001b[39;00m\n\u001b[0;32m    202\u001b[0m \n\u001b[0;32m    203\u001b[0m \u001b[39m    Args:\u001b[39;00m\n\u001b[1;32m   (...)\u001b[0m\n\u001b[0;32m    212\u001b[0m \u001b[39m        see the docs in Transformer class.\u001b[39;00m\n\u001b[0;32m    213\u001b[0m \u001b[39m    \"\"\"\u001b[39;00m\n\u001b[1;32m--> 214\u001b[0m     src_key_padding_mask \u001b[39m=\u001b[39m F\u001b[39m.\u001b[39;49m_canonical_mask(\n\u001b[0;32m    215\u001b[0m         mask\u001b[39m=\u001b[39;49msrc_key_padding_mask,\n\u001b[0;32m    216\u001b[0m         mask_name\u001b[39m=\u001b[39;49m\u001b[39m\"\u001b[39;49m\u001b[39msrc_key_padding_mask\u001b[39;49m\u001b[39m\"\u001b[39;49m,\n\u001b[0;32m    217\u001b[0m         other_type\u001b[39m=\u001b[39;49mF\u001b[39m.\u001b[39;49m_none_or_dtype(mask),\n\u001b[0;32m    218\u001b[0m         other_name\u001b[39m=\u001b[39;49m\u001b[39m\"\u001b[39;49m\u001b[39mmask\u001b[39;49m\u001b[39m\"\u001b[39;49m,\n\u001b[0;32m    219\u001b[0m         target_type\u001b[39m=\u001b[39;49msrc\u001b[39m.\u001b[39;49mdtype\n\u001b[0;32m    220\u001b[0m     )\n\u001b[0;32m    222\u001b[0m     mask \u001b[39m=\u001b[39m F\u001b[39m.\u001b[39m_canonical_mask(\n\u001b[0;32m    223\u001b[0m         mask\u001b[39m=\u001b[39mmask,\n\u001b[0;32m    224\u001b[0m         mask_name\u001b[39m=\u001b[39m\u001b[39m\"\u001b[39m\u001b[39mmask\u001b[39m\u001b[39m\"\u001b[39m,\n\u001b[1;32m   (...)\u001b[0m\n\u001b[0;32m    228\u001b[0m         check_other\u001b[39m=\u001b[39m\u001b[39mFalse\u001b[39;00m,\n\u001b[0;32m    229\u001b[0m     )\n\u001b[0;32m    231\u001b[0m     output \u001b[39m=\u001b[39m src\n",
      "File \u001b[1;32me:\\Anaconda3\\envs\\pytorch\\Lib\\site-packages\\torch\\nn\\functional.py:4995\u001b[0m, in \u001b[0;36m_canonical_mask\u001b[1;34m(mask, mask_name, other_type, other_name, target_type, check_other)\u001b[0m\n\u001b[0;32m   4993\u001b[0m _mask_is_float \u001b[39m=\u001b[39m torch\u001b[39m.\u001b[39mis_floating_point(mask)\n\u001b[0;32m   4994\u001b[0m \u001b[39mif\u001b[39;00m _mask_dtype \u001b[39m!=\u001b[39m torch\u001b[39m.\u001b[39mbool \u001b[39mand\u001b[39;00m \u001b[39mnot\u001b[39;00m _mask_is_float:\n\u001b[1;32m-> 4995\u001b[0m     \u001b[39mraise\u001b[39;00m \u001b[39mAssertionError\u001b[39;00m(\n\u001b[0;32m   4996\u001b[0m         \u001b[39mf\u001b[39m\u001b[39m\"\u001b[39m\u001b[39monly bool and floating types of \u001b[39m\u001b[39m{\u001b[39;00mmask_name\u001b[39m}\u001b[39;00m\u001b[39m are supported\u001b[39m\u001b[39m\"\u001b[39m)\n\u001b[0;32m   4997\u001b[0m \u001b[39mif\u001b[39;00m check_other \u001b[39mand\u001b[39;00m other_type \u001b[39mis\u001b[39;00m \u001b[39mnot\u001b[39;00m \u001b[39mNone\u001b[39;00m:\n\u001b[0;32m   4998\u001b[0m     \u001b[39mif\u001b[39;00m _mask_dtype \u001b[39m!=\u001b[39m other_type:\n",
      "\u001b[1;31mAssertionError\u001b[0m: only bool and floating types of src_key_padding_mask are supported"
     ]
    }
   ],
   "source": [
    "# Set device\n",
    "device = torch.device('cuda' if torch.cuda.is_available() else 'cpu')\n",
    "\n",
    "# Define hyperparameters\n",
    "vocab_size = len(tokenizer)\n",
    "embedding_dim = 128\n",
    "hidden_dim = 256\n",
    "num_classes = 6\n",
    "num_layers = 2\n",
    "num_heads = 4\n",
    "dropout = 0.2\n",
    "learning_rate = 1e-3\n",
    "batch_size = 16\n",
    "num_epochs = 30\n",
    "\n",
    "model = TransformerClassifier(vocab_size, embedding_dim, hidden_dim, num_classes, num_layers, num_heads, dropout)\n",
    "model.to(device)\n",
    "\n",
    "# Define loss function and optimizer\n",
    "loss_fn = nn.CrossEntropyLoss()\n",
    "optimizer = optim.Adam(model.parameters(), lr=learning_rate)\n",
    "\n",
    "# Create DataLoader\n",
    "train_dataset = TensorDataset(input_ids_train, attention_masks_train, labels_train)\n",
    "train_dataloader = DataLoader(train_dataset, batch_size=batch_size, shuffle=True)\n",
    "\n",
    "model.train()\n",
    "for epoch in range(num_epochs):\n",
    "    total_loss = 0\n",
    "    for batch_input_ids, batch_attention_masks, batch_labels in train_dataloader:\n",
    "        # Move batch tensors to device\n",
    "        batch_input_ids = batch_input_ids.to(device)\n",
    "        batch_attention_masks = batch_attention_masks.to(device)\n",
    "        batch_labels = batch_labels.to(device)\n",
    "        \n",
    "        # Zero the gradients\n",
    "        optimizer.zero_grad()\n",
    "        \n",
    "        # Forward pass\n",
    "        logits = model(batch_input_ids, batch_attention_masks)\n",
    "        loss = loss_fn(logits, torch.argmax(batch_labels, dim=1))\n",
    "        \n",
    "        # Backward pass and optimization\n",
    "        loss.backward()\n",
    "        optimizer.step()\n",
    "        \n",
    "        total_loss += loss.item()\n",
    "        \n",
    "    average_loss = total_loss / len(train_dataloader)\n",
    "    print(f\"Epoch {epoch+1}/{num_epochs}, Loss: {average_loss:.4f}\")"
   ]
  },
  {
   "cell_type": "code",
   "execution_count": null,
   "metadata": {},
   "outputs": [],
   "source": [
    "# Model persistance\n",
    "\n",
    "torch.save(model.state_dict(), './models/MyTransformer.pth')"
   ]
  },
  {
   "cell_type": "code",
   "execution_count": null,
   "metadata": {},
   "outputs": [],
   "source": [
    "# Load model\n",
    "\n",
    "model_new = TransformerClassifier(vocab_size, \n",
    "                                  embedding_dim, \n",
    "                                  hidden_dim, \n",
    "                                  num_classes, \n",
    "                                  num_layers, \n",
    "                                  num_heads, \n",
    "                                  dropout)\n",
    "\n",
    "model.load_state_dict(torch.load('/models/BertBasedModel.pth'))\n",
    "model.to(device)"
   ]
  },
  {
   "attachments": {},
   "cell_type": "markdown",
   "metadata": {},
   "source": [
    "# Comparison"
   ]
  },
  {
   "attachments": {},
   "cell_type": "markdown",
   "metadata": {},
   "source": [
    "### Load models:\n",
    "`my_model = tf.keras.models.load_model('my_model')`"
   ]
  },
  {
   "cell_type": "markdown",
   "metadata": {},
   "source": []
  }
 ],
 "metadata": {
  "kernelspec": {
   "display_name": "nlp",
   "language": "python",
   "name": "python3"
  },
  "language_info": {
   "codemirror_mode": {
    "name": "ipython",
    "version": 3
   },
   "file_extension": ".py",
   "mimetype": "text/x-python",
   "name": "python",
   "nbconvert_exporter": "python",
   "pygments_lexer": "ipython3",
   "version": "3.11.3"
  },
  "orig_nbformat": 4
 },
 "nbformat": 4,
 "nbformat_minor": 2
}
